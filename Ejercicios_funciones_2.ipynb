{
 "cells": [
  {
   "cell_type": "markdown",
   "metadata": {},
   "source": [
    "![imagen](./img/ejercicios.png)"
   ]
  },
  {
   "cell_type": "markdown",
   "metadata": {},
   "source": [
    "# Ejercicios funciones\n",
    "## Ejercicio 1\n",
    "Escribe una función que convierta números del 1 al 7 en nombres de los dias de la semana. La función constará de un único argumento numérico y una salida de tipo string"
   ]
  },
  {
   "cell_type": "code",
   "execution_count": 1,
   "metadata": {},
   "outputs": [
    {
     "name": "stdout",
     "output_type": "stream",
     "text": [
      "Lunes\n",
      "Viernes\n",
      "Domingo\n",
      "Número inválido. Debe estar entre 1 y 7.\n"
     ]
    }
   ],
   "source": [
    "def numero_a_dia(numero):\n",
    "    dias = {\n",
    "        1: \"Lunes\",\n",
    "        2: \"Martes\",\n",
    "        3: \"Miércoles\",\n",
    "        4: \"Jueves\",\n",
    "        5: \"Viernes\",\n",
    "        6: \"Sábado\",\n",
    "        7: \"Domingo\"\n",
    "    }\n",
    "\n",
    "    return dias.get(numero, \"Número inválido. Debe estar entre 1 y 7.\")\n",
    "\n",
    "\n",
    "# --- Pruebas ---\n",
    "print(numero_a_dia(1))  # Lunes\n",
    "print(numero_a_dia(5))  # Viernes\n",
    "print(numero_a_dia(7))  # Domingo\n",
    "print(numero_a_dia(9))  # Número inválido\n"
   ]
  },
  {
   "cell_type": "markdown",
   "metadata": {},
   "source": [
    "## Ejercicio 2\n",
    "En el ejercicio 8 de flujos de control, creábamos una pirámide invertida de números desde el 5. Crea una función que replique el comportamiento de la pirámide, y utiliza un único parámetro de entrada de la función para determinar el número de filas de la pirámide."
   ]
  },
  {
   "cell_type": "code",
   "execution_count": 5,
   "metadata": {},
   "outputs": [
    {
     "name": "stdout",
     "output_type": "stream",
     "text": [
      "5 4 3 2 1 \n",
      "4 3 2 1 \n",
      "3 2 1 \n",
      "2 1 \n",
      "1 \n",
      "--------------------------------------------------\n",
      "2 1 \n",
      "1 \n",
      "--------------------------------------------------\n",
      "9 8 7 6 5 4 3 2 1 \n",
      "8 7 6 5 4 3 2 1 \n",
      "7 6 5 4 3 2 1 \n",
      "6 5 4 3 2 1 \n",
      "5 4 3 2 1 \n",
      "4 3 2 1 \n",
      "3 2 1 \n",
      "2 1 \n",
      "1 \n"
     ]
    }
   ],
   "source": [
    "# Definimos la función\n",
    "def piramide_invertida(filas):\n",
    "    for i in range(filas, 0, -1):         # Desde 'filas' hasta 1, de uno en uno hacia abajo\n",
    "        for j in range(i, 0, -1):         # Imprime desde 'i' hasta 1\n",
    "            print(j, end=\" \")             # Imprime los números en la misma línea separados por espacio\n",
    "        print()                           # Salto de línea al final de cada fila\n",
    "\n",
    "# Llamamos a la función con 5 filas, como en el ejemplo original\n",
    "piramide_invertida(5)\n",
    "print(\"-\"*50)\n",
    "piramide_invertida(2)\n",
    "print(\"-\"*50)\n",
    "piramide_invertida(9)"
   ]
  },
  {
   "cell_type": "markdown",
   "metadata": {},
   "source": [
    "## Ejercicio 3\n",
    "Escribe una función que compare dos números. La función tiene dos argumentos y hay tres salidas posibles: que sean iguales, que el primero sea  mayor que el segundo, o que el segundo sea mayor que el primero"
   ]
  },
  {
   "cell_type": "code",
   "execution_count": 6,
   "metadata": {},
   "outputs": [
    {
     "name": "stdout",
     "output_type": "stream",
     "text": [
      "El primer número es mayor que el segundo\n",
      "El segundo número es mayor que el primero\n",
      "Los números son iguales\n"
     ]
    }
   ],
   "source": [
    "def comparar_numeros(a, b):\n",
    "    if a == b:\n",
    "        return \"Los números son iguales\"\n",
    "    elif a > b:\n",
    "        return \"El primer número es mayor que el segundo\"\n",
    "    else:\n",
    "        return \"El segundo número es mayor que el primero\"\n",
    "\n",
    "# Ejemplos de uso:\n",
    "print(comparar_numeros(10, 5))   # El primer número es mayor que el segundo\n",
    "print(comparar_numeros(3, 8))    # El segundo número es mayor que el primero\n",
    "print(comparar_numeros(7, 7))    # Los números son iguales\n"
   ]
  },
  {
   "attachments": {},
   "cell_type": "markdown",
   "metadata": {},
   "source": [
    "## Ejercicio 4\n",
    "Escribe una función que sea un contador de letras. En el primer argumento tienes que introducir un texto, y el segundo que sea una letra que contar. La función tiene que devolver un entero con el número de veces que aparece esa letra, tanto mayúscula, como minúscula"
   ]
  },
  {
   "cell_type": "code",
   "execution_count": 12,
   "metadata": {},
   "outputs": [
    {
     "name": "stdout",
     "output_type": "stream",
     "text": [
      "2\n",
      "2\n",
      "3\n",
      "2\n",
      "2\n"
     ]
    }
   ],
   "source": [
    "def contar_letra(texto, letra):\n",
    "    # Convertimos todo a minúscula para que no distinga mayúsculas\n",
    "    texto = texto.lower()\n",
    "    letra = letra.lower()\n",
    "    # Usamos el método .count() para contar ocurrencias\n",
    "    return texto.count(letra)\n",
    "\n",
    "# Ejemplo de uso:\n",
    "print(contar_letra(\"Hola Mundo\", \"o\"))  \n",
    "print(contar_letra(\"Python es Poderoso\", \"P\"))  \n",
    "print(contar_letra(\"Supercalifragilisticoespialidoso\", \"o\"))\n",
    "print(contar_letra(\"Iñaki\", \"i\"))\n",
    "print(contar_letra(\"Iñaki\", \"I\"))\n"
   ]
  },
  {
   "cell_type": "markdown",
   "metadata": {},
   "source": [
    "## Ejercicio 5\n",
    "Escribe una función que tenga un único argumento, un string. La salida de la función tiene que ser un diccionario con el conteo de todas las letras de ese string, siendo la clave la letra y el valor el conteo."
   ]
  },
  {
   "cell_type": "code",
   "execution_count": 17,
   "metadata": {},
   "outputs": [
    {
     "name": "stdout",
     "output_type": "stream",
     "text": [
      "{'h': 1, 'o': 2, 'l': 1, 'a': 1, 'm': 1, 'u': 1, 'n': 1, 'd': 1}\n",
      "{'i': 2, 'ñ': 1, 'a': 1, 'k': 1}\n",
      "{'s': 4, 'u': 1, 'p': 2, 'e': 2, 'r': 2, 'c': 2, 'a': 3, 'l': 3, 'i': 6, 'f': 1, 'g': 1, 't': 1, 'o': 3, 'd': 1}\n"
     ]
    }
   ],
   "source": [
    "def contar_letras(texto):\n",
    "    conteo = {}  # Diccionario donde se guardará la letra y su cantidad\n",
    "    for letra in texto:\n",
    "        if letra.isalpha():  # Solo contamos letras (ignorar números o símbolos) \n",
    "            letra = letra.lower()  # Convertir la letra a minúscula para que no distinga\n",
    "            if letra in conteo:\n",
    "                conteo[letra] += 1  # Si ya está en el diccionario, aumentamos el contador\n",
    "            else:\n",
    "                conteo[letra] = 1  # Si no está, lo añadimos con valor 1\n",
    "    return conteo\n",
    "\n",
    "'''.isalpha() es un método de las cadenas de texto (strings) en Python que comprueba \n",
    "            si todos los caracteres de un string son letras del alfabeto.\n",
    "            Devuelve True si todos los caracteres son letras (A-Z, a-z).\n",
    "            Devuelve False si hay números, espacios, símbolos o cualquier otra cosa que no sea una letra.'''\n",
    "# Ejemplo de uso:\n",
    "print(contar_letras(\"Hola Mundo\"))  \n",
    "print(contar_letras(\"Iñaki\"))\n",
    "print(contar_letras(\"Supercalifragilisticoespialidoso\"))\n",
    "\n"
   ]
  },
  {
   "cell_type": "code",
   "execution_count": 15,
   "metadata": {},
   "outputs": [
    {
     "name": "stdout",
     "output_type": "stream",
     "text": [
      "h: 1\n",
      "o: 2\n",
      "l: 1\n",
      "a: 1\n",
      "m: 1\n",
      "u: 1\n",
      "n: 1\n",
      "d: 1\n",
      "--------------------\n",
      "i: 2\n",
      "ñ: 1\n",
      "a: 1\n",
      "k: 1\n",
      "--------------------\n",
      "s: 4\n",
      "u: 1\n",
      "p: 2\n",
      "e: 2\n",
      "r: 2\n",
      "c: 2\n",
      "a: 3\n",
      "l: 3\n",
      "i: 6\n",
      "f: 1\n",
      "g: 1\n",
      "t: 1\n",
      "o: 3\n",
      "d: 1\n",
      "--------------------\n"
     ]
    }
   ],
   "source": [
    "def contar_letras(texto):\n",
    "    conteo = {}\n",
    "    for letra in texto.lower():\n",
    "        if letra.isalpha(): #\n",
    "            conteo[letra] = conteo.get(letra, 0) + 1\n",
    "    return conteo\n",
    "\n",
    "\n",
    "# Función para imprimir bonito\n",
    "def imprimir_conteo(diccionario):\n",
    "    for letra, cantidad in diccionario.items():\n",
    "        print(f\"{letra}: {cantidad}\")\n",
    "    print(\"-\" * 20)  # Separador bonito\n",
    "\n",
    "# Usamos las funciones\n",
    "imprimir_conteo(contar_letras(\"Hola Mundo\"))\n",
    "imprimir_conteo(contar_letras(\"Iñaki\"))\n",
    "imprimir_conteo(contar_letras(\"Supercalifragilisticoespialidoso\"))\n",
    "\n"
   ]
  },
  {
   "cell_type": "code",
   "execution_count": 16,
   "metadata": {},
   "outputs": [
    {
     "name": "stdout",
     "output_type": "stream",
     "text": [
      "{'H': 1, 'o': 2, 'l': 1, 'a': 1, ' ': 1, 'M': 1, 'u': 1, 'n': 1, 'd': 1}\n",
      "{'I': 1, 'ñ': 1, 'a': 1, 'k': 1, 'i': 1}\n",
      "{'S': 1, 'u': 1, 'p': 2, 'e': 2, 'r': 2, 'c': 2, 'a': 3, 'l': 3, 'i': 6, 'f': 1, 'g': 1, 's': 3, 't': 1, 'o': 3, 'd': 1}\n"
     ]
    }
   ],
   "source": [
    "def contar_letras(texto):\n",
    "    conteo = {}  # Diccionario donde se guardará la letra y su cantidad\n",
    "    for letra in texto:\n",
    "            if letra in conteo:\n",
    "                conteo[letra] += 1  # Si ya está en el diccionario, aumentamos el contador\n",
    "            else:\n",
    "                conteo[letra] = 1  # Si no está, lo añadimos con valor 1\n",
    "    return conteo\n",
    "\n",
    "# Ejemplo de uso:\n",
    "print(contar_letras(\"Hola Mundo\"))  \n",
    "print(contar_letras(\"Iñaki\"))\n",
    "print(contar_letras(\"Supercalifragilisticoespialidoso\"))"
   ]
  },
  {
   "cell_type": "markdown",
   "metadata": {},
   "source": [
    "## Ejercicio 6\n",
    "Escribir una función que añada o elimine elementos en una lista. La función necesita los siguientes argumentos:\n",
    "* lista: la lista donde se añadirán o eliminarán los elementos\n",
    "* comando: \"add\" o \"remove\"\n",
    "* elemento: Por defecto es None.\n",
    "\n",
    "Tendrá como salida la lista"
   ]
  },
  {
   "cell_type": "code",
   "execution_count": 18,
   "metadata": {},
   "outputs": [
    {
     "name": "stdout",
     "output_type": "stream",
     "text": [
      "[1, 2, 3, 4, 5, 6]\n",
      "[1, 2, 4, 5, 6]\n",
      "Comando o elemento no válido.\n",
      "[1, 2, 4, 5, 6]\n"
     ]
    }
   ],
   "source": [
    "def modificar_lista(lista, comando, elemento=None):\n",
    "    if comando == \"add\":\n",
    "        lista.append(elemento)  # Añadir el elemento a la lista\n",
    "    elif comando == \"remove\" and elemento in lista:\n",
    "        lista.remove(elemento)  # Eliminar el primer elemento que coincida\n",
    "    else:\n",
    "        print(\"Comando o elemento no válido.\")\n",
    "    return lista\n",
    "\n",
    "# Ejemplos de uso:\n",
    "mi_lista = [1, 2, 3, 4, 5]\n",
    "print(modificar_lista(mi_lista, \"add\", 6))      # Añadir 6 a la lista\n",
    "print(modificar_lista(mi_lista, \"remove\", 3))   # Eliminar el número 3 de la lista\n",
    "print(modificar_lista(mi_lista, \"remove\", 10))  # Intento de eliminar un elemento no existente\n"
   ]
  },
  {
   "cell_type": "markdown",
   "metadata": {},
   "source": [
    "## Ejercicio 7\n",
    "Crea una función que reciba un número arbitrario de palabras, y devuelva una frase completa, separando las palabras con espacios."
   ]
  },
  {
   "cell_type": "code",
   "execution_count": 20,
   "metadata": {},
   "outputs": [
    {
     "name": "stdout",
     "output_type": "stream",
     "text": [
      "Hola mundo cómo estás\n",
      "Este es un ejemplo\n",
      "Python es genial\n"
     ]
    }
   ],
   "source": [
    "def crear_frase(*palabras):\n",
    "    return \" \".join(palabras)\n",
    "\n",
    "# Ejemplos de uso:\n",
    "print(crear_frase(\"Hola\", \"mundo\", \"cómo\", \"estás\"))  \n",
    "print(crear_frase(\"Este\", \"es\", \"un\", \"ejemplo\"))    \n",
    "print(crear_frase(\"Python\", \"es\", \"genial\"))          \n"
   ]
  },
  {
   "cell_type": "markdown",
   "metadata": {},
   "source": [
    "## Ejercicio 8\n",
    "Escribe un programa que obtenga el enésimo número de la [serie de Fibonacci](https://es.wikipedia.org/wiki/Sucesi%C3%B3n_de_Fibonacci). Tienes que crear una función recursiva con un único argumento.\n",
    "\n",
    "```Python\n",
    "fibonacci(2) = 1\n",
    "fibonacci(4) = 3\n",
    "fibonacci(5) = 5\n",
    "fibonacci(8) = 21\n",
    "```"
   ]
  },
  {
   "cell_type": "markdown",
   "metadata": {},
   "source": [
    "fibonacci(n) = fibonacci(n-1) + fibonacci(n-2)"
   ]
  },
  {
   "cell_type": "code",
   "execution_count": 18,
   "metadata": {},
   "outputs": [
    {
     "name": "stdout",
     "output_type": "stream",
     "text": [
      "1\n",
      "1\n",
      "3\n",
      "5\n",
      "21\n",
      "55\n",
      "6765\n"
     ]
    }
   ],
   "source": [
    "def fibonacci(n):\n",
    "    if n <= 0:\n",
    "        return \"El número debe ser mayor que 0\"\n",
    "    elif n == 1 or n == 2:\n",
    "        return 1\n",
    "    else:\n",
    "        return fibonacci(n - 1) + fibonacci(n - 2)\n",
    "\n",
    "# Ejemplos de uso:\n",
    "print(fibonacci(1))\n",
    "print(fibonacci(2))  \n",
    "print(fibonacci(4))  \n",
    "print(fibonacci(5))  \n",
    "print(fibonacci(8))  \n",
    "print(fibonacci(10))  \n",
    "print(fibonacci(20))\n"
   ]
  },
  {
   "attachments": {},
   "cell_type": "markdown",
   "metadata": {},
   "source": [
    "## Ejercicio 9\n",
    "Define en una única celda las siguientes funciones:\n",
    "* Función que calcule el área de un cuadrado\n",
    "* Función que calcule el área de un triángulo\n",
    "* Función que calcule el área de un círculo\n",
    "\n",
    "En otra celda, calcular el area de:\n",
    "* Dos círculos de radio 10 + un triángulo de base 3 y altura 7\n",
    "* Un cuadrado de lado = 10 + 3 círculos (uno de radio = 4 y los otros dos de radio = 6) + 5 triángulos de base = 2 + altura = 4"
   ]
  },
  {
   "cell_type": "code",
   "execution_count": 31,
   "metadata": {},
   "outputs": [
    {
     "name": "stdout",
     "output_type": "stream",
     "text": [
      "Área total (dos círculos y un triángulo): 638.8185307179587\n",
      "Área total (dos círculos y un triángulo): 638.82\n",
      "Área total:638.819 'usando .round'y la variable 'numero_redondeado'\n",
      "Área total (cuadrado, círculos y triángulos): 396.46\n"
     ]
    }
   ],
   "source": [
    "import math\n",
    "\n",
    "# Función para calcular el área de un cuadrado\n",
    "def area_cuadrado(lado):\n",
    "    return lado ** 2\n",
    "\n",
    "# Función para calcular el área de un triángulo\n",
    "def area_triangulo(base, altura):\n",
    "    return (base * altura) / 2\n",
    "\n",
    "# Función para calcular el área de un círculo\n",
    "def area_circulo(radio):\n",
    "    return math.pi * radio ** 2\n",
    "\n",
    "# Cálculos solicitados:\n",
    "\n",
    "# Dos círculos de radio 10 + un triángulo de base 3 y altura 7\n",
    "\n",
    "# Áreas\n",
    "area_circulo_1 = area_circulo(10)\n",
    "area_circulo_2 = area_circulo(10)\n",
    "area_triangulo_1 = area_triangulo(3, 7)\n",
    "\n",
    "# Resultado\n",
    "resultado_1 = area_circulo_1 + area_circulo_2 + area_triangulo_1\n",
    "print(f\"Área total (dos círculos y un triángulo): {resultado_1}\")\n",
    "print(f\"Área total (dos círculos y un triángulo): {resultado_1:.2f}\")\n",
    "\n",
    "numero_redondeado = resultado_1 \n",
    "numero_redondeado = round(resultado_1,3)\n",
    "print(f\"Área total:{numero_redondeado} 'usando .round'y la variable 'numero_redondeado'\")\n",
    "\n",
    "\n",
    "# Un cuadrado de lado = 10 + 3 círculos (uno de radio = 4 y los otros dos de radio = 6)\n",
    "# + 5 triángulos de base = 2 y altura = 4\n",
    "\n",
    "# Áreas\n",
    "area_cuadrado_1 = area_cuadrado(10)\n",
    "area_circulo_3 = area_circulo(4)\n",
    "area_circulo_4 = area_circulo(6)\n",
    "area_circulo_5 = area_circulo(6)\n",
    "area_triangulo_2 = area_triangulo(2, 4)\n",
    "area_triangulo_3 = area_triangulo(2, 4)\n",
    "area_triangulo_4 = area_triangulo(2, 4)\n",
    "area_triangulo_5 = area_triangulo(2, 4)\n",
    "area_triangulo_6 = area_triangulo(2, 4)\n",
    "\n",
    "# Resultado\n",
    "resultado_2 = area_cuadrado_1 + area_circulo_3 + area_circulo_4 + area_circulo_5 + \\\n",
    "             area_triangulo_2 + area_triangulo_3 + area_triangulo_4 + \\\n",
    "             area_triangulo_5 + area_triangulo_6\n",
    "print(f\"Área total (cuadrado, círculos y triángulos): {resultado_2:.2f}\")\n"
   ]
  },
  {
   "cell_type": "markdown",
   "metadata": {},
   "source": [
    "## Ejercicio 10\n",
    "\n",
    "Guarda las funciones de estos ejercicios en un fichero llamado `funciones.py` e importalas desde este jupyter notebook para probar que puedes hacer uso de ellas."
   ]
  },
  {
   "cell_type": "code",
   "execution_count": 32,
   "metadata": {},
   "outputs": [],
   "source": [
    "# funciones.py\n",
    "\n",
    "# Función del ejercicio 1\n",
    "def dia_semana(num):\n",
    "    dias = [\"Domingo\", \"Lunes\", \"Martes\", \"Miércoles\", \"Jueves\", \"Viernes\", \"Sábado\"]\n",
    "    return dias[num - 1]\n",
    "\n",
    "# Función del ejercicio 2\n",
    "def piramide_invertida(filas):\n",
    "    for i in range(filas, 0, -1):\n",
    "        print(\" \".join(str(x) for x in range(i, 0, -1)))\n",
    "\n",
    "# Función del ejercicio 3\n",
    "def comparar_numeros(a, b):\n",
    "    if a == b:\n",
    "        return \"Los números son iguales\"\n",
    "    elif a > b:\n",
    "        return \"El primer número es mayor que el segundo\"\n",
    "    else:\n",
    "        return \"El segundo número es mayor que el primero\"\n",
    "\n",
    "# Función del ejercicio 4\n",
    "def contador_letras(texto, letra):\n",
    "    return texto.lower().count(letra.lower())\n",
    "\n",
    "# Función del ejercicio 5\n",
    "def contar_letras(texto):\n",
    "    conteo = {}\n",
    "    for letra in texto:\n",
    "        if letra.isalpha():  # Solo contar letras\n",
    "            conteo[letra] = conteo.get(letra, 0) + 1\n",
    "    return conteo\n",
    "\n",
    "# Función del ejercicio 6\n",
    "def modificar_lista(lista, comando, elemento=None):\n",
    "    if comando == \"add\" and elemento is not None:\n",
    "        lista.append(elemento)\n",
    "    elif comando == \"remove\" and elemento is not None:\n",
    "        lista.remove(elemento)\n",
    "    return lista\n",
    "\n",
    "# Función del ejercicio 7\n",
    "def frase_completa(*palabras):\n",
    "    return \" \".join(palabras)\n",
    "\n",
    "# Función del ejercicio 8 (Fibonacci)\n",
    "def fibonacci(n):\n",
    "    if n <= 1:\n",
    "        return n\n",
    "    return fibonacci(n-1) + fibonacci(n-2)\n",
    "\n",
    "# Función del ejercicio 9 (Área de figuras)\n",
    "def area_cuadrado(lado):\n",
    "    return lado ** 2\n",
    "\n",
    "def area_triangulo(base, altura):\n",
    "    return (base * altura) / 2\n",
    "\n",
    "def area_circulo(radio):\n",
    "    import math\n",
    "    return math.pi * radio ** 2\n"
   ]
  }
 ],
 "metadata": {
  "kernelspec": {
   "display_name": "Python 3",
   "language": "python",
   "name": "python3"
  },
  "language_info": {
   "codemirror_mode": {
    "name": "ipython",
    "version": 3
   },
   "file_extension": ".py",
   "mimetype": "text/x-python",
   "name": "python",
   "nbconvert_exporter": "python",
   "pygments_lexer": "ipython3",
   "version": "3.11.4"
  }
 },
 "nbformat": 4,
 "nbformat_minor": 4
}
