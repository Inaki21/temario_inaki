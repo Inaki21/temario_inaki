{
 "cells": [
  {
   "attachments": {},
   "cell_type": "markdown",
   "metadata": {},
   "source": [
    "## CODEWARS\n",
    "\n",
    "# 1 EJERCICIO\n",
    "\n",
    "Si enumeramos todos los números naturales por debajo de 10 que son múltiplos de 3 o 5, obtenemos 3, 5, 6 y 9. La suma de estos múltiplos es 23.\n",
    "\n",
    "Terminar la solución para que devuelva la suma de todos los múltiplos de 3 o 5 por debajo del número pasado. \n",
    "\n"
   ]
  },
  {
   "cell_type": "code",
   "execution_count": 7,
   "metadata": {},
   "outputs": [
    {
     "name": "stdout",
     "output_type": "stream",
     "text": [
      "Numeros generados: [0, 1, 2, 3, 4, 5, 6, 7, 8, 9]\n",
      "Multiplos de 3 o 5: [0, 3, 5, 6, 9]\n",
      "Suma total: 23\n",
      "Resultado final: 23\n",
      "------------------------------------------------------------------------------------------\n",
      "Numeros generados: [0, 1, 2, 3, 4, 5, 6, 7, 8, 9, 10, 11, 12, 13, 14, 15, 16, 17, 18, 19]\n",
      "Multiplos de 3 o 5: [0, 3, 5, 6, 9, 10, 12, 15, 18]\n",
      "Suma total: 78\n",
      "Resultado final: 78\n"
     ]
    }
   ],
   "source": [
    "def suma_multiplos_paso_a_paso(n):\n",
    "    numeros = list(range(n))  # 1. Creamos una lista de 0 hasta n-1\n",
    "    print(\"Numeros generados:\", numeros)\n",
    "\n",
    "    multiplos = []            # 2. Lista vacía para guardar los múltiplos\n",
    "\n",
    "    for numero in numeros:    # 3. Recorremos uno por uno\n",
    "        if numero % 3 == 0 or numero % 5 == 0:\n",
    "            multiplos.append(numero)  # Si es múltiplo de 3 o 5, lo añadimos\n",
    "\n",
    "    print(\"Multiplos de 3 o 5:\", multiplos)\n",
    "\n",
    "    suma_total = sum(multiplos)  # 4. Sumamos todos los múltiplos\n",
    "    print(\"Suma total:\", suma_total)\n",
    "\n",
    "    return suma_total\n",
    "\n",
    "# Ejemplo de uso\n",
    "print(\"Resultado final:\", suma_multiplos_paso_a_paso(10))\n",
    "print(\"-\"*90)\n",
    "print(\"Resultado final:\", suma_multiplos_paso_a_paso(20))\n"
   ]
  },
  {
   "cell_type": "code",
   "execution_count": 2,
   "metadata": {},
   "outputs": [
    {
     "name": "stdout",
     "output_type": "stream",
     "text": [
      "23\n"
     ]
    }
   ],
   "source": [
    "def suma_multiplos(n):\n",
    "    suma = 0\n",
    "    for i in range(n):\n",
    "        if i % 3 == 0 or i % 5 == 0:\n",
    "            suma += i\n",
    "    return suma\n",
    "\n",
    "# Ejemplo de uso\n",
    "print(suma_multiplos(10))  # Resultado: 23\n"
   ]
  },
  {
   "cell_type": "code",
   "execution_count": 3,
   "metadata": {},
   "outputs": [
    {
     "name": "stdout",
     "output_type": "stream",
     "text": [
      "23\n"
     ]
    }
   ],
   "source": [
    "def suma_multiplos(n):\n",
    "    return sum(i for i in range(n) if i % 3 == 0 or i % 5 == 0)\n",
    "\n",
    "# Ejemplo de uso\n",
    "print(suma_multiplos(10))  # Resultado: 23\n"
   ]
  },
  {
   "cell_type": "markdown",
   "metadata": {},
   "source": [
    "## CODEWARS\n",
    "\n",
    "# 2 EJERCICIO\n",
    "\n",
    "Complete the solution so that it returns true if the first argument(string) passed in ends with the 2nd argument (also a string).\n",
    "\n",
    "Examples:\n",
    "\n",
    "solution('abc', 'bc') # returns true\n",
    "solution('abc', 'd') # returns false"
   ]
  },
  {
   "cell_type": "code",
   "execution_count": 12,
   "metadata": {},
   "outputs": [
    {
     "name": "stdout",
     "output_type": "stream",
     "text": [
      "True\n",
      "False\n"
     ]
    }
   ],
   "source": [
    "texto = \"Hola mundo\"\n",
    "print(texto.endswith(\"mundo\"))  # True\n",
    "print(texto.endswith(\"Hola\"))   # False"
   ]
  },
  {
   "cell_type": "code",
   "execution_count": 14,
   "metadata": {},
   "outputs": [
    {
     "name": "stdout",
     "output_type": "stream",
     "text": [
      "True\n",
      "False\n",
      "True\n",
      "False\n",
      "False\n"
     ]
    },
    {
     "data": {
      "text/plain": [
       "' \\nendswith() es un método de cadenas (strings) en Python.\\nEste método verifica si una cadena (text)\\ntermina con el subconjunto de caracteres (ending) que le pases como argumento.\\n'"
      ]
     },
     "execution_count": 14,
     "metadata": {},
     "output_type": "execute_result"
    }
   ],
   "source": [
    "def solution(text, ending):\n",
    "    return text.endswith(ending)\n",
    "\n",
    "# Ejemplos de uso:\n",
    "print(solution('abc', 'bc'))  # True\n",
    "print(solution('abc', 'd'))   # False\n",
    "print(solution(\"programacion\", \"cion\"))\n",
    "print(solution(\"programacion\", \"cion \"))\n",
    "print(solution(\"programacion\", \"java\"))\n",
    "\n",
    "\n",
    "''' \n",
    "endswith() es un método de cadenas (strings) en Python.\n",
    "Este método verifica si una cadena (text)\n",
    "termina con el subconjunto de caracteres (ending) que le pases como argumento.\n",
    "'''\n"
   ]
  },
  {
   "cell_type": "code",
   "execution_count": 9,
   "metadata": {},
   "outputs": [
    {
     "name": "stdout",
     "output_type": "stream",
     "text": [
      "True\n",
      "False\n"
     ]
    }
   ],
   "source": [
    "def solution(text, ending):\n",
    "    return text[-len(ending):] == ending if ending else True\n",
    "\n",
    "# Ejemplos:\n",
    "print(solution('abc', 'bc'))  # True\n",
    "print(solution('abc', 'd'))   # False\n"
   ]
  },
  {
   "cell_type": "code",
   "execution_count": 10,
   "metadata": {},
   "outputs": [
    {
     "name": "stdout",
     "output_type": "stream",
     "text": [
      "True\n",
      "False\n",
      "False\n"
     ]
    }
   ],
   "source": [
    "def solution(text, ending):\n",
    "    return text[-len(ending):] == ending\n",
    "\n",
    "print(solution(\"python\", \"on\"))   # True\n",
    "print(solution(\"python\", \"py\"))   # False\n",
    "print(solution(\"python\", \"\"))     # True\n"
   ]
  },
  {
   "cell_type": "code",
   "execution_count": 11,
   "metadata": {},
   "outputs": [
    {
     "name": "stdout",
     "output_type": "stream",
     "text": [
      "True\n",
      "False\n",
      "True\n",
      "True\n"
     ]
    }
   ],
   "source": [
    "def solution(text, ending):\n",
    "    if len(ending) > len(text):\n",
    "        return False  # Si ending es más largo que text, no puede coincidir\n",
    "\n",
    "    for i in range(1, len(ending) + 1):\n",
    "        if text[-i] != ending[-i]:\n",
    "            return False  # Si alguna letra no coincide, devuelve False\n",
    "\n",
    "    return True  # Si todas coinciden, devuelve True\n",
    "\n",
    "'''\n",
    "Compara las letras de atrás hacia adelante.\n",
    "\n",
    "text[-i] → última, penúltima, antepenúltima letra...\n",
    "\n",
    "ending[-i] → igual, desde su final hacia el principio.\n",
    "\n",
    "Si encuentra una sola letra diferente, sale enseguida devolviendo False.\n",
    "\n",
    "Si pasa todo el bucle sin errores, significa que todo el ending coincide → devuelve True.\n",
    "'''\n",
    "\n",
    "print(solution(\"python\", \"on\"))     # True\n",
    "print(solution(\"python\", \"th\"))     # False\n",
    "print(solution(\"abracadabra\", \"dabra\"))  # True\n",
    "print(solution(\"python\", \"\"))       # True\n"
   ]
  },
  {
   "cell_type": "markdown",
   "metadata": {},
   "source": [
    "## CODEWARS\n",
    "\n",
    "# 2 EJERCICIO\n",
    "\n",
    "The goal of this exercise is to convert a string to a new string where each character in the new string is \"(\" if that character appears only once in the original string, or \")\" if that character appears more than once in the original string. Ignore capitalization when determining if a character is a duplicate.\n",
    "Examples\n",
    "\n",
    "\"din\"      =>  \"(((\"\n",
    "\n",
    "\"recede\"   =>  \"()()()\"\n",
    "\n",
    "\"Success\"  =>  \")())())\"\n",
    "\n",
    "\"(( @\"     =>  \"))((\" \n",
    "\n",
    "Notes\n",
    "\n",
    "Assertion messages may be unclear about what they display in some languages. If you read \"...It Should encode XXX\", the \"XXX\" is the expected result, not the input!\n",
    "\n",
    "-------------------------------------------------------------------------------------------------\n",
    "\n",
    "El objetivo de este ejercicio es convertir una cadena de texto en una nueva cadena donde cada carácter en la nueva cadena será:\n",
    "\n",
    "    \"(\" si ese carácter aparece solo una vez en la cadena original.\n",
    "\n",
    "    \")\" si ese carácter aparece más de una vez en la cadena original.\n",
    "\n",
    "Ignora las mayúsculas y minúsculas al determinar si un carácter es un duplicado.\n",
    "Ejemplos:\n",
    "\n",
    "    Entrada: \"din\"\n",
    "\n",
    "        Salida: \"(((\" (Todos los caracteres aparecen solo una vez).\n",
    "\n",
    "    Entrada: \"recede\"\n",
    "\n",
    "        Salida: \"()()()\" (El carácter \"e\" aparece más de una vez, los demás solo una vez).\n",
    "\n",
    "    Entrada: \"Success\"\n",
    "\n",
    "        Salida: \")())())\" (El carácter \"s\" y el carácter \"c\" aparecen más de una vez).\n",
    "\n",
    "    Entrada: \"(( @\"\n",
    "\n",
    "    Salida: \"))((\" (El carácter \"(\" aparece más de una vez, mientras que el espacio y \"@\" solo una vez).\n"
   ]
  },
  {
   "cell_type": "code",
   "execution_count": 19,
   "metadata": {},
   "outputs": [
    {
     "data": {
      "text/plain": [
       "'Explicación del código:\\n\\ntext = text.lower(): Esto convierte la cadena a minúsculas para ignorar las diferencias\\nentre mayúsculas y minúsculas.\\n\\nfrequency = Counter(text): Esto crea un diccionario donde las claves son los caracteres de la cadena \\ny los valores son las veces que aparece cada carácter.\\n\\nIteración sobre cada carácter: Para cada carácter en la cadena,\\nsi su frecuencia es mayor que 1, se agrega \")\" al resultado, si no, se agrega \"(\".\\n\\nDevolver el resultado: Al final, se devuelve la nueva cadena construida.\\n\\nEjemplos de ejecución:\\n\\nEntrada: \"din\"\\n\\nMinúsculas: \"din\"\\n\\nFrecuencias: {\"d\": 1, \"i\": 1, \"n\": 1}\\n\\nSalida: \"(((\" (Todos los caracteres aparecen solo una vez).\\n\\nEntrada: \"recede\"\\n\\nMinúsculas: \"recede\"\\n\\nFrecuencias: {\"r\": 1, \"e\": 3, \"c\": 1, \"d\": 1}\\n\\nSalida: \"()()()\" (El carácter \"e\" aparece más de una vez, los demás solo una vez).\\n\\nEntrada: \"Success\"\\n\\nMinúsculas: \"success\"\\n\\nFrecuencias: {\"s\": 3, \"u\": 1, \"c\": 2, \"e\": 1}\\n\\nSalida: \")())())\" (Los caracteres \"s\" y \"c\" aparecen más de una vez).\\n\\nEntrada: \"(( @\"\\n\\nMinúsculas: \"(( @\"\\n\\nFrecuencias: {\"(\": 2, \" \": 1, \"@\": 1}\\n\\nSalida: \"))((\" (El carácter \"(\" aparece más de una vez, el espacio y \"@\" aparecen una vez).\\n\\nComplejidad de tiempo:\\n\\nCounter(text) toma O(n) donde n es la longitud de la cadena.\\n\\nEl bucle sobre la cadena también toma O(n).\\n\\nPor lo tanto, la complejidad total en tiempo es O(n).\\n\\nComplejidad de espacio:\\n\\nLa complejidad de espacio es O(n) porque almacenamos las frecuencias de los caracteres \\ny la cadena de resultado, ambos dependen de la longitud de la cadena de entrada.'"
      ]
     },
     "execution_count": 19,
     "metadata": {},
     "output_type": "execute_result"
    }
   ],
   "source": [
    "from collections import Counter\n",
    "\n",
    "def duplicate_encode(text):\n",
    "    text = text.lower()  # Convertir la cadena a minúsculas\n",
    "    frequency = Counter(text)  # Contar la frecuencia de cada carácter\n",
    "    result = \"\"  # Inicializar la cadena de resultado\n",
    "    \n",
    "    for char in text:\n",
    "        if frequency[char] > 1:\n",
    "            result += \")\"  # Si el carácter aparece más de una vez, agregar ')'\n",
    "        else:\n",
    "            result += \"(\"  # Si el carácter aparece solo una vez, agregar '('\n",
    "    \n",
    "    return result\n",
    "\n",
    " \n",
    "'''Explicación del código:\n",
    "\n",
    "text = text.lower(): Esto convierte la cadena a minúsculas para ignorar las diferencias\n",
    "entre mayúsculas y minúsculas.\n",
    "\n",
    "frequency = Counter(text): Esto crea un diccionario donde las claves son los caracteres de la cadena \n",
    "y los valores son las veces que aparece cada carácter.\n",
    "\n",
    "Iteración sobre cada carácter: Para cada carácter en la cadena,\n",
    "si su frecuencia es mayor que 1, se agrega \")\" al resultado, si no, se agrega \"(\".\n",
    "\n",
    "Devolver el resultado: Al final, se devuelve la nueva cadena construida.\n",
    "\n",
    "Ejemplos de ejecución:\n",
    "\n",
    "Entrada: \"din\"\n",
    "\n",
    "Minúsculas: \"din\"\n",
    "\n",
    "Frecuencias: {\"d\": 1, \"i\": 1, \"n\": 1}\n",
    "\n",
    "Salida: \"(((\" (Todos los caracteres aparecen solo una vez).\n",
    "\n",
    "Entrada: \"recede\"\n",
    "\n",
    "Minúsculas: \"recede\"\n",
    "\n",
    "Frecuencias: {\"r\": 1, \"e\": 3, \"c\": 1, \"d\": 1}\n",
    "\n",
    "Salida: \"()()()\" (El carácter \"e\" aparece más de una vez, los demás solo una vez).\n",
    "\n",
    "Entrada: \"Success\"\n",
    "\n",
    "Minúsculas: \"success\"\n",
    "\n",
    "Frecuencias: {\"s\": 3, \"u\": 1, \"c\": 2, \"e\": 1}\n",
    "\n",
    "Salida: \")())())\" (Los caracteres \"s\" y \"c\" aparecen más de una vez).\n",
    "\n",
    "Entrada: \"(( @\"\n",
    "\n",
    "Minúsculas: \"(( @\"\n",
    "\n",
    "Frecuencias: {\"(\": 2, \" \": 1, \"@\": 1}\n",
    "\n",
    "Salida: \"))((\" (El carácter \"(\" aparece más de una vez, el espacio y \"@\" aparecen una vez).\n",
    "\n",
    "Complejidad de tiempo:\n",
    "\n",
    "Counter(text) toma O(n) donde n es la longitud de la cadena.\n",
    "\n",
    "El bucle sobre la cadena también toma O(n).\n",
    "\n",
    "Por lo tanto, la complejidad total en tiempo es O(n).\n",
    "\n",
    "Complejidad de espacio:\n",
    "\n",
    "La complejidad de espacio es O(n) porque almacenamos las frecuencias de los caracteres \n",
    "y la cadena de resultado, ambos dependen de la longitud de la cadena de entrada.'''\n"
   ]
  }
 ],
 "metadata": {
  "kernelspec": {
   "display_name": "Python 3",
   "language": "python",
   "name": "python3"
  },
  "language_info": {
   "codemirror_mode": {
    "name": "ipython",
    "version": 3
   },
   "file_extension": ".py",
   "mimetype": "text/x-python",
   "name": "python",
   "nbconvert_exporter": "python",
   "pygments_lexer": "ipython3",
   "version": "3.11.4"
  },
  "orig_nbformat": 4
 },
 "nbformat": 4,
 "nbformat_minor": 2
}
