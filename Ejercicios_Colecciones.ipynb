{
 "cells": [
  {
   "cell_type": "markdown",
   "metadata": {},
   "source": [
    "![imagen](./img/ejercicios.png)"
   ]
  },
  {
   "cell_type": "markdown",
   "metadata": {},
   "source": [
    "## Ejercicio 1\n",
    "Dada la siguiente lista:\n",
    "> ```ejer_1 = [1,2,3,4,5]```\n",
    "\n",
    "Inviértela para que quede de la siguiente manera\n",
    "> ```ejer_1 = [5,4,3,2,1]```"
   ]
  },
  {
   "cell_type": "code",
   "execution_count": null,
   "metadata": {},
   "outputs": [
    {
     "name": "stdout",
     "output_type": "stream",
     "text": [
      "[5, 4, 3, 2, 1]\n",
      "[5, 4, 3, 2, 1]\n"
     ]
    }
   ],
   "source": [
    "ejer_1 = [1,2,3,4,5]\n",
    "#crear una lista nueva para poder meter dentro la lista creada al reves\n",
    "ejer_1alreves = ejer_1[::-1]\n",
    "print(ejer_1alreves)\n",
    "\n",
    "# otra manera, sort, lo hace de menor a mayor, reverse=TRue lo hace al reves\n",
    "\n",
    "ejer_1.sort(reverse=True)\n",
    "print(ejer_1)"
   ]
  },
  {
   "cell_type": "markdown",
   "metadata": {},
   "source": [
    "## Ejercicio 3\n",
    "Crea una lista nueva con todas las combinaciones de las siguientes dos listas:\n",
    "> ```ejer_3_1 = [\"Hola\", \"amigo\"]```\n",
    ">\n",
    "> ```ejer_3_2 = [\"Que\", \"tal\"]```\n",
    "\n",
    "Obten el siguiente output:\n",
    "\n",
    "```['Hola Que', 'Hola tal', 'amigo Que', 'amigo tal']```"
   ]
  },
  {
   "cell_type": "code",
   "execution_count": 6,
   "metadata": {},
   "outputs": [
    {
     "name": "stdout",
     "output_type": "stream",
     "text": [
      "['Hola Que', 'Hola tal', 'amigo Que', 'amigo tal']\n"
     ]
    }
   ],
   "source": [
    "ejer_3_1 = [\"Hola\", \"amigo\"]\n",
    "ejer_3_2 = [\"Que\", \"tal\"]\n",
    "\n",
    "# Creamos una lista nueva con las combinaciones\n",
    "combinaciones = []\n",
    "\n",
    "# Bucle anidado para generar todas las combinaciones posibles\n",
    "for palabra1 in ejer_3_1:\n",
    "    for palabra2 in ejer_3_2:\n",
    "        combinaciones.append(palabra1 + \" \" + palabra2)\n",
    "\n",
    "# Mostrar las combinaciones\n",
    "print(combinaciones)  # Resultado: ['Hola Que', 'Hola tal', 'amigo Que', 'amigo tal']\n"
   ]
  },
  {
   "attachments": {},
   "cell_type": "markdown",
   "metadata": {},
   "source": [
    "## Ejercicio 4\n",
    "Dada la siguiente lista, encuentra por el índice el valor 45 y sustitúyelo por el 0\n",
    "> ```ejer_4 = [20, 47, 19, 29, 45, 67, 78, 90]```"
   ]
  },
  {
   "cell_type": "code",
   "execution_count": 16,
   "metadata": {},
   "outputs": [
    {
     "name": "stdout",
     "output_type": "stream",
     "text": [
      "[20, 47, 19, 29, 0, 67, 78, 90]\n",
      "[20, 0, 47, 0, 19, 29, 0, 67, 78, 90]\n"
     ]
    }
   ],
   "source": [
    "ejer_4 = [20, 47, 19, 29, 45, 67, 78, 90]\n",
    "\n",
    "# Buscar el índice del 45\n",
    "posicion = ejer_4.index(45)\n",
    "\n",
    "# Sustituir el valor en esa posición por 0\n",
    "ejer_4[posicion] = 0\n",
    "\n",
    "print(ejer_4)  # [20, 47, 19, 29, 0, 67, 78, 90]\n",
    "\n",
    "#################################################################################\n",
    "\n",
    "ejer_4 = [20, 45, 47, 45, 19, 29, 45, 67, 78, 90]\n",
    "\n",
    "# Creamos una nueva lista vacía para guardar los valores modificados\n",
    "lista_actualizada = []\n",
    "\n",
    "# Recorremos cada elemento de la lista original\n",
    "for num in ejer_4:\n",
    "    if num == 45:\n",
    "        # Si el número es 45, añadimos un 0 a la lista nueva\n",
    "        lista_actualizada.append(0)\n",
    "    else:\n",
    "        # Si no es 45, añadimos el número tal cual\n",
    "        lista_actualizada.append(num)\n",
    "\n",
    "print(lista_actualizada)\n",
    "\n",
    "\n"
   ]
  },
  {
   "cell_type": "markdown",
   "metadata": {},
   "source": [
    "## Ejercicio 5\n",
    "Dada la siguiente lista, elimina todos los valores iguales a 3\n",
    "> ```ejer_5 = [3, 20, 3, 47, 19, 3, 29, 45, 67, 78, 90, 3, 3]```\n",
    "\n",
    "TIP: No intentes eliminar elementos sobre la lista que estás iterando. Haz una copia con `ejer_5.copy()`."
   ]
  },
  {
   "cell_type": "code",
   "execution_count": 20,
   "metadata": {},
   "outputs": [
    {
     "name": "stdout",
     "output_type": "stream",
     "text": [
      "[20, 47, 19, 29, 45, 67, 78, 90]\n"
     ]
    }
   ],
   "source": [
    "ejer_5 = [3, 20, 3, 47, 19, 3, 29, 45, 67, 78, 90, 3, 3]\n",
    "\n",
    "# Crear una nueva lista sin los 3\n",
    "ejer_5_filtrada = [num for num in ejer_5 if num != 3]\n",
    "\n",
    "print(ejer_5_filtrada)\n"
   ]
  },
  {
   "attachments": {},
   "cell_type": "markdown",
   "metadata": {},
   "source": [
    "## Ejercicio 6\n",
    "1. Crea una tupla con 3 elementos\n",
    "2. Crea otra tupla con un elemento y comprueba su tipo\n",
    "3. Crea una tupla con elementos de diferentes tipos\n",
    "4. Imprime por pantalla el primer y último elemento de la tupla del apartado 3. Usa `len` para el último\n",
    "5. Añade un elemento a la tupla del apartado 3.\n",
    "6. Eliminar un elemento de la tupla del apartado 5, que se encuentre más o menos en la mitad.\n",
    "7. Convierte la tupla del apartado 5 en una lista"
   ]
  },
  {
   "cell_type": "code",
   "execution_count": 22,
   "metadata": {},
   "outputs": [
    {
     "name": "stdout",
     "output_type": "stream",
     "text": [
      "Tipo de tupla2: <class 'tuple'>\n",
      "Primer elemento: Hola\n",
      "Último elemento: True\n",
      "Tupla original con tipos distintos: ('Hola', 7.5, True)\n",
      "Tupla con nuevo elemento: ('Hola', 7.5, True, 'Nuevo')\n",
      "Lista modificada con elemento eliminado: ['Hola', 7.5, 'Nuevo']\n",
      "Lista final a partir de tupla4: ['Hola', 7.5, True, 'Nuevo']\n"
     ]
    }
   ],
   "source": [
    "# 1. Crear una tupla con 3 elementos\n",
    "tupla1 = (1, 2, 3)\n",
    "\n",
    "# 2. Crear otra tupla con un solo elemento y comprobar su tipo\n",
    "tupla2 = (42,)  # ¡Importante la coma!\n",
    "print(\"Tipo de tupla2:\", type(tupla2))\n",
    "\n",
    "# 3. Crear una tupla con elementos de diferentes tipos\n",
    "tupla3 = (\"Hola\", 7.5, True)\n",
    "\n",
    "# 4. Imprimir el primer y el último elemento de tupla3\n",
    "print(\"Primer elemento:\", tupla3[0])\n",
    "print(\"Último elemento:\", tupla3[len(tupla3) - 1])\n",
    "\n",
    "# 5. Añadir un elemento a la tupla (tuplas son inmutables, así que creamos una nueva)\n",
    "tupla4 = tupla3 + (\"Nuevo\",)\n",
    "\n",
    "# 6. Eliminar un elemento (como no se puede directamente, convertimos a lista, modificamos, y volvemos a tupla)\n",
    "lista_modificada = list(tupla4)\n",
    "del lista_modificada[len(lista_modificada) // 2]  # eliminar el elemento central\n",
    "\n",
    "# 7. Convertir la tupla del paso 5 (tupla4) en una lista\n",
    "lista_final = list(tupla4)\n",
    "\n",
    "# Mostrar resultados\n",
    "print(\"Tupla original con tipos distintos:\", tupla3)\n",
    "print(\"Tupla con nuevo elemento:\", tupla4)\n",
    "print(\"Lista modificada con elemento eliminado:\", lista_modificada)\n",
    "print(\"Lista final a partir de tupla4:\", lista_final)\n"
   ]
  },
  {
   "attachments": {},
   "cell_type": "markdown",
   "metadata": {},
   "source": [
    "## Ejercicio 7\n",
    "Concatena todos los elementos de la tupla en un único string. Para ello utiliza el metodo `.join()` de los Strings\n",
    "> ```ejer_7 = (\"cien\", \"cañones\", \"por\", \"banda\")```\n",
    "\n",
    "Resultado: `cien cañones por banda`"
   ]
  },
  {
   "cell_type": "code",
   "execution_count": 11,
   "metadata": {},
   "outputs": [
    {
     "name": "stdout",
     "output_type": "stream",
     "text": [
      "cien cañones por banda\n"
     ]
    }
   ],
   "source": [
    "ejer_7 = (\"cien\", \"cañones\", \"por\", \"banda\")\n",
    "\n",
    "# Usamos el método join para concatenar los elementos de la tupla en un único string, con un espacio entre ellos\n",
    "resultado = \" \".join(ejer_7)\n",
    "\n",
    "print(resultado)\n"
   ]
  },
  {
   "cell_type": "markdown",
   "metadata": {},
   "source": [
    "## Ejercicio 8\n",
    "Obten el tercer elemento de la siguiente tupla, y el tercero empezando por la cola\n",
    "> ```ejer_8 = (3, 20, 3, 47, 19, 3, 29, 45, 67, 78, 90, 3, 3)```"
   ]
  },
  {
   "cell_type": "code",
   "execution_count": 24,
   "metadata": {},
   "outputs": [
    {
     "name": "stdout",
     "output_type": "stream",
     "text": [
      "Tipo de tupla2: <class 'tuple'>\n",
      "Primer elemento: Hola\n",
      "Último elemento: True\n",
      "Tupla original con tipos distintos: ('Hola', 7.5, True)\n",
      "Tupla con nuevo elemento: ('Hola', 7.5, True, 'Nuevo')\n",
      "Lista modificada con elemento eliminado: ['Hola', 7.5, 'Nuevo']\n",
      "Lista final a partir de tupla4: ['Hola', 7.5, True, 'Nuevo']\n"
     ]
    }
   ],
   "source": [
    "# 1. Crear una tupla con 3 elementos\n",
    "tupla1 = (1, 2, 3)\n",
    "\n",
    "# 2. Crear otra tupla con un solo elemento y comprobar su tipo\n",
    "tupla2 = (42,)  # ¡Importante la coma!\n",
    "print(\"Tipo de tupla2:\", type(tupla2))\n",
    "\n",
    "# 3. Crear una tupla con elementos de diferentes tipos\n",
    "tupla3 = (\"Hola\", 7.5, True)\n",
    "\n",
    "# 4. Imprimir el primer y el último elemento de tupla3\n",
    "print(\"Primer elemento:\", tupla3[0])\n",
    "print(\"Último elemento:\", tupla3[len(tupla3) - 1])\n",
    "\n",
    "# 5. Añadir un elemento a la tupla (tuplas son inmutables, así que creamos una nueva)\n",
    "tupla4 = tupla3 + (\"Nuevo\",)\n",
    "\n",
    "# 6. Eliminar un elemento (como no se puede directamente, convertimos a lista, modificamos, y volvemos a tupla)\n",
    "lista_modificada = list(tupla4)\n",
    "del lista_modificada[len(lista_modificada) // 2]  # eliminar el elemento central\n",
    "\n",
    "# 7. Convertir la tupla del paso 5 (tupla4) en una lista\n",
    "lista_final = list(tupla4)\n",
    "\n",
    "# Mostrar resultados\n",
    "print(\"Tupla original con tipos distintos:\", tupla3)\n",
    "print(\"Tupla con nuevo elemento:\", tupla4)\n",
    "print(\"Lista modificada con elemento eliminado:\", lista_modificada)\n",
    "print(\"Lista final a partir de tupla4:\", lista_final)\n"
   ]
  },
  {
   "cell_type": "markdown",
   "metadata": {},
   "source": [
    "## Ejercicio 11\n",
    "Convierte la siguiente lista en un diccionario\n",
    "> ```ejer_11 = [(\"x\", 1), (\"x\", 2), (\"x\", 3), (\"y\", 1), (\"y\", 2), (\"z\", 1)]```\n",
    "\n",
    "TIP: Puedes usar dos variables de control en un bucle `for`. Una por cada valor de las tuplas."
   ]
  },
  {
   "cell_type": "code",
   "execution_count": 25,
   "metadata": {},
   "outputs": [
    {
     "name": "stdout",
     "output_type": "stream",
     "text": [
      "{'x': [1, 2, 3], 'y': [1, 2], 'z': [1]}\n"
     ]
    }
   ],
   "source": [
    "# Lista de tuplas\n",
    "ejer_11 = [(\"x\", 1), (\"x\", 2), (\"x\", 3), (\"y\", 1), (\"y\", 2), (\"z\", 1)]\n",
    "\n",
    "# Creamos un diccionario vacío\n",
    "diccionario = {}\n",
    "\n",
    "# Iteramos sobre cada tupla en la lista\n",
    "for clave, valor in ejer_11:\n",
    "    if clave in diccionario:\n",
    "        # Si la clave ya existe en el diccionario, añadimos el valor a la lista\n",
    "        diccionario[clave].append(valor)\n",
    "    else:\n",
    "        # Si la clave no existe, creamos una nueva clave con el valor en una lista\n",
    "        diccionario[clave] = [valor]\n",
    "\n",
    "# Imprimimos el diccionario resultante\n",
    "print(diccionario)\n",
    "\n"
   ]
  },
  {
   "attachments": {},
   "cell_type": "markdown",
   "metadata": {},
   "source": [
    "## Ejercicio 12\n",
    "1. Crea una lista ordenada ascendente con las claves del diccionario\n",
    "2. Crea otra lista ordenada descendente con los valores\n",
    "3. Añade una nueva clave/valor\n",
    "4. Busca la clave igual a 2 dentro del diccionario\n",
    "5. Itera la clave y el valor del diccionario con un único for\n",
    "> ```ejer_12 = {4:78, 2:98, 8:234, 5:29}```"
   ]
  },
  {
   "cell_type": "code",
   "execution_count": null,
   "metadata": {},
   "outputs": [],
   "source": [
    "# Diccionario inicial\n",
    "ejer_12 = {4: 78, 2: 98, 8: 234, 5: 29}\n",
    "\n",
    "# 1. Crear una lista ordenada ascendente con las claves del diccionario\n",
    "claves_ordenadas = sorted(ejer_12.keys())\n",
    "print(\"Claves ordenadas ascendentemente:\", claves_ordenadas)\n",
    "\n",
    "# 2. Crear una lista ordenada descendente con los valores\n",
    "valores_ordenados_desc = sorted(ejer_12.values(), reverse=True)\n",
    "print(\"Valores ordenados descendentemente:\", valores_ordenados_desc)\n",
    "\n",
    "# 3. Añadir una nueva clave/valor\n",
    "ejer_12[3] = 100  # Añadiendo clave 3 con el valor 100\n",
    "print(\"Diccionario después de añadir la nueva clave/valor:\", ejer_12)\n",
    "\n",
    "# 4. Buscar la clave igual a 2 dentro del diccionario\n",
    "if 2 in ejer_12:\n",
    "    print(\"La clave 2 tiene el valor:\", ejer_12[2])\n",
    "else:\n",
    "    print(\"La clave 2 no está en el diccionario.\")\n",
    "\n",
    "# 5. Iterar la clave y el valor del diccionario con un único for\n",
    "print(\"Iterando claves y valores:\")\n",
    "for clave, valor in ejer_12.items():\n",
    "    print(f\"Clave: {clave}, Valor: {valor}\")\n"
   ]
  },
  {
   "cell_type": "markdown",
   "metadata": {},
   "source": [
    "## Ejercicio 13\n",
    "Junta ambos diccionarios. Para ello, utiliza `update`\n",
    "> ```ejer_13_1 = {1: 11, 2: 22}```\n",
    ">\n",
    "> ```ejer_13_2 = {3: 33, 4: 44}```"
   ]
  },
  {
   "cell_type": "code",
   "execution_count": 12,
   "metadata": {},
   "outputs": [
    {
     "name": "stdout",
     "output_type": "stream",
     "text": [
      "{1: 11, 2: 22, 3: 33, 4: 44}\n"
     ]
    }
   ],
   "source": [
    "ejer_13_1 = {1: 11, 2: 22}\n",
    "ejer_13_2 = {3: 33, 4: 44}\n",
    "\n",
    "# Usamos el método update para añadir los elementos de ejer_13_2 a ejer_13_1\n",
    "ejer_13_1.update(ejer_13_2)\n",
    "\n",
    "print(ejer_13_1)\n"
   ]
  },
  {
   "cell_type": "markdown",
   "metadata": {},
   "source": [
    "## Ejercicio 14\n",
    "Suma todos los valores del dicionario\n",
    "> ```ejer_14 = {1: 11, 2: 22, 3: 33, 4: 44, 5: 55}```"
   ]
  },
  {
   "cell_type": "code",
   "execution_count": 13,
   "metadata": {},
   "outputs": [
    {
     "name": "stdout",
     "output_type": "stream",
     "text": [
      "165\n"
     ]
    }
   ],
   "source": [
    "ejer_14 = {1: 11, 2: 22, 3: 33, 4: 44, 5: 55}\n",
    "\n",
    "# Sumamos los valores del diccionario\n",
    "suma_total = sum(ejer_14.values())\n",
    "\n",
    "print(suma_total)\n"
   ]
  },
  {
   "cell_type": "markdown",
   "metadata": {},
   "source": [
    "## Ejercicio 15\n",
    "Multiplica todos los valores del diccionario\n",
    "> ```ejer_15 = {1: 11, 2: 22, 3: 33, 4: 44, 5: 55}```"
   ]
  },
  {
   "cell_type": "code",
   "execution_count": 14,
   "metadata": {},
   "outputs": [
    {
     "name": "stdout",
     "output_type": "stream",
     "text": [
      "19326120\n"
     ]
    }
   ],
   "source": [
    "ejer_14 = {1: 11, 2: 22, 3: 33, 4: 44, 5: 55}\n",
    "\n",
    "# Inicializamos una variable para almacenar el producto, empezamos con 1 (la identidad de la multiplicación)\n",
    "producto_total = 1\n",
    "\n",
    "# Recorremos los valores del diccionario y multiplicamos\n",
    "for valor in ejer_14.values():\n",
    "    producto_total *= valor\n",
    "\n",
    "print(producto_total)\n"
   ]
  },
  {
   "cell_type": "markdown",
   "metadata": {},
   "source": [
    "## Ejercicio 16\n",
    "1. Crea un set de tres elementos\n",
    "2. Añade un cuarto\n",
    "3. Elimina el último elemento añadido\n",
    "4. Elimina el elemento 10, si está presente. Usa `discard()`"
   ]
  },
  {
   "cell_type": "code",
   "execution_count": 15,
   "metadata": {},
   "outputs": [
    {
     "name": "stdout",
     "output_type": "stream",
     "text": [
      "Set inicial: {1, 2, 3}\n",
      "Set después de añadir el cuarto elemento: {1, 2, 3, 4}\n",
      "Set después de eliminar el último elemento añadido: {2, 3, 4}\n",
      "Set después de intentar eliminar el elemento 10: {2, 3, 4}\n"
     ]
    }
   ],
   "source": [
    "#los sets no mantienen el orden de inserción de manera consistente.\n",
    "\n",
    "# 1. Crea un set de tres elementos\n",
    "mi_set = {1, 2, 3}\n",
    "print(\"Set inicial:\", mi_set)\n",
    "\n",
    "# 2. Añade un cuarto elemento\n",
    "mi_set.add(4)\n",
    "print(\"Set después de añadir el cuarto elemento:\", mi_set)\n",
    "\n",
    "# 3. Elimina el último elemento añadido\n",
    "# Para eliminar el último elemento añadido, podemos usar el método `pop()`,\n",
    "# pero el orden de los elementos en un set no es fijo.\n",
    "# En este caso, pop eliminará un elemento arbitrario, que puede no ser el último añadido.\n",
    "mi_set.pop()\n",
    "print(\"Set después de eliminar el último elemento añadido:\", mi_set)\n",
    "\n",
    "# 4. Elimina el elemento 10, si está presente, usando `discard()`\n",
    "mi_set.discard(10)  # `discard()` no lanza error si el elemento no existe, remove() si lo haria.\n",
    "print(\"Set después de intentar eliminar el elemento 10:\", mi_set)\n",
    "\n",
    "\n"
   ]
  }
 ],
 "metadata": {
  "kernelspec": {
   "display_name": "Python 3",
   "language": "python",
   "name": "python3"
  },
  "language_info": {
   "codemirror_mode": {
    "name": "ipython",
    "version": 3
   },
   "file_extension": ".py",
   "mimetype": "text/x-python",
   "name": "python",
   "nbconvert_exporter": "python",
   "pygments_lexer": "ipython3",
   "version": "3.11.4"
  }
 },
 "nbformat": 4,
 "nbformat_minor": 4
}
