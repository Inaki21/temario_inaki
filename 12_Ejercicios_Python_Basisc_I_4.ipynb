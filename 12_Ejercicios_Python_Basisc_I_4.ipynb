
   "cell_type": "markdown",
   "metadata": {},
   "source": [
    "## EJERCICIOS PYTHON BASICO 4: \n",
    "## Funciones, métodos, listas"
   ]
  },
  {
   "cell_type": "markdown",
   "metadata": {},
   "source": [
    "Completa los siguiente ejercicios, la solución completa a los mismos se publicarán en el repo del curso a lo largo del sprint. En algunos ejercicios se muestra la solución final, para que puedas comprobar que lo has hecho bien, pero lo importante es el código que generes. ¡Vaaamos, a ello...!"
   ]
  },
  {
   "cell_type": "markdown",
   "metadata": {},
   "source": [
    "![ejercicio.png](./img/ejercicio.png)\n",
    "\n",
    "## Ejercicio 1\n",
    "Para este ejercicio vamos a poner en práctica [las funciones built in](https://docs.python.org/3/library/functions.html).\n",
    "\n",
    "1. Calcula el máximo de la lista: [4, 6, 8, -1]\n",
    "2. Suma todos los elementos de la lista anterior\n",
    "3. Redondea este float a 3 dígitos decimales: 63.451256965\n",
    "4. Valor absoluto de: -74"
   ]
  },
  {
   "cell_type": "code",
   "execution_count": 2,
   "metadata": {},
   "outputs": [
    {
     "name": "stdout",
     "output_type": "stream",
     "text": [
      "Máximo: 8\n",
      "Suma: 17\n",
      "Redondeado: 63.451\n",
      "Valor absoluto: 74\n"
     ]
    }
   ],
   "source": [
    "# Caso 1\n",
    "lista = [4, 6, 8, -1]\n",
    "maximo = max(lista)\n",
    "print(\"Máximo:\", maximo)\n",
    "\n",
    "# Caso 2\n",
    "suma = sum(lista)\n",
    "print(\"Suma:\", suma)\n",
    "\n",
    "# Caso 3\n",
    "numero = 63.451256965\n",
    "redondeado = round(numero, 3)\n",
    "print(\"Redondeado:\", redondeado)\n",
    "\n",
    "# Caso 4\n",
    "absoluto = abs(-74)\n",
    "print(\"Valor absoluto:\", absoluto)"
   ]
  },
  {
   "cell_type": "markdown",
   "metadata": {},
   "source": [
    "![ejercicio.png](./img/ejercicio.png)\n",
    "\n",
    "## Ejercicio 2\n",
    "Para el siguiente string se pide imprimir por pantalla los siguientes casos\n",
    "\n",
    "    \"En un lugar de la Mancha, de cuyo nombre no quiero acordarme.\"\n",
    "\n",
    "1. Pásalo todo a mayúsculas\n",
    "2. Pásalo todo a minúsculas\n",
    "3. Solo la primera letra de cada palabra en mayúscula, el resto en minúscula\n",
    "4. Crea una lista dividiéndolo por sus espacios\n",
    "5. Sustituye las comas `,` por puntos y comas `;`\n",
    "6. Elimina las `a` minúsculas"
   ]
  },
  {
   "cell_type": "code",
   "execution_count": 13,
   "metadata": {},
   "outputs": [
    {
     "name": "stdout",
     "output_type": "stream",
     "text": [
      "Todo en mayúsculas: EN UN LUGAR DE LA MANCHA, DE CUYO NOMBRE NO QUIERO ACORDARME.\n",
      "todo en minusculas: en un lugar de la mancha, de cuyo nombre no quiero acordarme.\n",
      "Primera letra en mayúscula: En Un Lugar De La Mancha, De Cuyo Nombre No Quiero Acordarme.\n",
      "Lista de palabras: ['En', 'un', 'lugar', 'de', 'la', 'Mancha,', 'de', 'cuyo', 'nombre', 'no', 'quiero', 'acordarme.']\n",
      "Sustituido: En un lugar de la Mancha; de cuyo nombre no quiero acordarme.\n",
      "Sin las 'a' minúsculas: En un lugr de l Mnch, de cuyo nombre no quiero cordrme.\n"
     ]
    }
   ],
   "source": [
    "text = \"En un lugar de la Mancha, de cuyo nombre no quiero acordarme.\"\n",
    "\n",
    "#Primer Caso Todo mayusculas\n",
    "mayusculas = text.upper()\n",
    "print(\"Todo en mayúsculas:\", mayusculas)\n",
    "\n",
    "#Segundo Caso Todo minusculas\n",
    "minusculas = text.lower()\n",
    "print(\"todo en minusculas:\", minusculas)\n",
    "\n",
    "#Tercer Caso \n",
    "capitalizado = text.title()\n",
    "print(\"Primera letra en mayúscula:\", capitalizado)\n",
    "\n",
    "#Cuarto Caso\n",
    "lista_palabras = text.split()\n",
    "print(\"Lista de palabras:\", lista_palabras)\n",
    "\n",
    "#Quinto Caso\n",
    "sustituido = text.replace(',', ';')\n",
    "print(\"Sustituido:\", sustituido)\n",
    "\n",
    "#Sexto Caso\n",
    "eliminadas_a = text.replace('a', '')\n",
    "print(\"Sin las 'a' minúsculas:\", eliminadas_a)\n",
    "\n"
   ]
  },
  {
   "cell_type": "markdown",
   "metadata": {},
   "source": [
    "![ejercicio.png](./img/ejercicio.png)\n",
    "\n",
    "## Ejercicio 3\n",
    "1. Crea una lista con 3 elementos numéricos\n",
    "2. Añade un cuarto elemento\n",
    "3. Calcula la suma de todos\n",
    "4. Elimina el segundo elemento de la lista\n",
    "5. Añade otro elemento en la posicion 3 de la lista\n",
    "6. Crea otra lista con 4 elementos y concaténala a la que ya tenías.\n",
    "7. Ordena la lista de menor a mayor.\n",
    "8. BONUS: Ordena la lista de mayor a menor.  \n",
    "(*PISTA: Para hacer 8, tendrás que buscar en la información del método...*)  \n",
    "  \n",
    "  \n",
    "NOTA: Pinta por pantalla el resultado de cada paso."
   ]
  },
  {
   "cell_type": "code",
   "execution_count": 12,
   "metadata": {},
   "outputs": [
    {
     "name": "stdout",
     "output_type": "stream",
     "text": [
      "1. Lista inicial: [10, 5, 3]\n",
      "2. Lista con un cuarto elemento: [10, 5, 3, 8]\n",
      "3. Suma de todos los elementos: 26\n",
      "4. Lista tras eliminar el segundo elemento: [10, 3, 8]\n",
      "5. Lista tras insertar en posición 3: [10, 3, 8, 12]\n",
      "6. Lista tras concatenar otra lista: [10, 3, 8, 12, 7, 9, 1, 0]\n",
      "7. Lista ordenada de menor a mayor: [0, 1, 3, 7, 8, 9, 10, 12]\n",
      "8. Lista ordenada de mayor a menor: [12, 10, 9, 8, 7, 3, 1, 0]\n"
     ]
    }
   ],
   "source": [
    "# 1. Crear una lista con 3 elementos numéricos\n",
    "lista = [10, 5, 3]\n",
    "print(\"1. Lista inicial:\", lista)\n",
    "\n",
    "# 2. Añadir un cuarto elemento\n",
    "lista.append(8)\n",
    "print(\"2. Lista con un cuarto elemento:\", lista)\n",
    "\n",
    "# 3. Calcular la suma de todos\n",
    "suma_total = sum(lista)\n",
    "print(\"3. Suma de todos los elementos:\", suma_total)\n",
    "\n",
    "# 4. Eliminar el segundo elemento (índice 1)\n",
    "del lista[1]\n",
    "print(\"4. Lista tras eliminar el segundo elemento:\", lista)\n",
    "\n",
    "# 5. Añadir otro elemento en la posición 3 (índice 2 después de eliminación)\n",
    "lista.insert(3, 12)  # Ojo: Si hay menos de 4 elementos, insert lo añade al final\n",
    "print(\"5. Lista tras insertar en posición 3:\", lista)\n",
    "\n",
    "# 6. Crear otra lista y concatenar\n",
    "otra_lista = [7, 9, 1, 0]\n",
    "lista += otra_lista\n",
    "print(\"6. Lista tras concatenar otra lista:\", lista)\n",
    "\n",
    "# 7. Ordenar de menor a mayor\n",
    "lista.sort()\n",
    "print(\"7. Lista ordenada de menor a mayor:\", lista)\n",
    "\n",
    "# 8. BONUS: Ordenar de mayor a menor\n",
    "lista.sort(reverse=True)\n",
    "print(\"8. Lista ordenada de mayor a menor:\", lista)\n"
   ]
  }
 ],
 "metadata": {
  "kernelspec": {
   "display_name": "Python 3",
   "language": "python",
   "name": "python3"
  },
  "language_info": {
   "codemirror_mode": {
    "name": "ipython",
    "version": 3
   },
   "file_extension": ".py",
   "mimetype": "text/x-python",
   "name": "python",
   "nbconvert_exporter": "python",
   "pygments_lexer": "ipython3",
   "version": "3.11.4"
  },
  "orig_nbformat": 4
 },
 "nbformat": 4,
 "nbformat_minor": 2
}
