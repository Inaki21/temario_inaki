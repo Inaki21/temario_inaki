{
  "cells": [
    {
      "cell_type": "markdown",
      "metadata": {
        "id": "BNCAebJANPxq"
      },
      "source": [
        "![TheBridge_logo_RGB_color.jpg](attachment:TheBridge_logo_RGB_color.jpg)"
      ]
    },
    {
      "cell_type": "markdown",
      "metadata": {
        "id": "A9eDZvZaNPxs"
      },
      "source": [
        "![imagen](./img/ejercicios.png)"
      ]
    },
    {
      "cell_type": "markdown",
      "metadata": {
        "id": "59zPhBxXNPxs"
      },
      "source": [
        "## PRACTICA OBLIGATORIA: PYTHON"
      ]
    },
    {
      "cell_type": "markdown",
      "metadata": {
        "id": "mv2kb1GMNPxs"
      },
      "source": [
        "* La práctica obligatoria de esta unidad consiste en dos ejercicios de programación libre a completar.   \n",
        "* Recuerda que debes subirla a tu repositorio personal antes de la sesión en vivo para que puntúe adecuadamente.  \n",
        "* Recuerda también que no es necesario que esté perfecta, sólo es necesario que se vea el esfuerzo.\n",
        "* Esta práctica se resolverá en la sesión en vivo correspondiente y la solución se publicará en el repo del curso."
      ]
    },
    {
      "cell_type": "markdown",
      "metadata": {
        "id": "Kl9JzST2NPxt"
      },
      "source": [
        "![ejercicio.png](./img/ejercicio.png)\n",
        "## PARTE I\n",
        "\n",
        "En este ejercicio debes simular un chatbot al que le haremos pedidos de pizzas.\n",
        "\n",
        "1. El chatbot tiene que saludar con un: \"Buenas tardes, bienvenido al servicio de pedido online, el precio de nuestra pizzas es de 8,95 para la familiar o de 9,90 para la mediana ¿Cuántas pizzas  familiares desea?\"\n",
        "2. El ususario tiene que introducir un número de pizzas en una variable llamada 'pizz_familiar'\n",
        "3. El chatbot debe responder: \"Estupendo, ¿cuántas pizzas medianas desea?\" y guardar el número de pizzas medianas en otra variable 'pizz_mediana'\n",
        "4. Además debe responder del chatbot: \"Estupendo, se están preparando 'pizz' pizzas familiares y 'pizz_mediana' pizzas medianas. Digame su dirección\"\n",
        "5. El ususario tiene que introducir una direccion en formato String en otra variable llamada 'direcc'\n",
        "6. El programa debe calcular el monto total\n",
        "7. Respuesta final del chatbot: \"Le mandaremos las '(número total de pizzas)' pizzas a la dirección 'direcc'. Serán <precio total a pagar en euros>. Muchas gracias por su pedido.\"\n",
        "         \n"
      ]
    },
    {
      "cell_type": "code",
      "execution_count": 7,
      "metadata": {
        "id": "qkKibyt-NPxt"
      },
      "outputs": [
        {
          "name": "stdout",
          "output_type": "stream",
          "text": [
            "Buenas tardes, bienvenido al servicio de pedido online,\n",
            "El precio de nuestra pizzas es de 8,95 para la familiar o de 9,90 para la mediana.\n",
            "Estupendo, se están preparando 21 pizzas familiares y 25 pizzas medianas.\n",
            "Le mandaremos las 46 pizzas a la dirección mendi 21.\n",
            "Serán 436.716 euros. Muchas gracias por su pedido.\n",
            "Serán 436.72 euros. Muchas gracias por su pedido.\n",
            "Serán 436.7 euros. Muchas gracias por su pedido.\n",
            "Serán 437 euros. Muchas gracias por su pedido.\n",
            "Serán 436.716 euros. Muchas gracias por su pedido.\n"
          ]
        }
      ],
      "source": [
        "# Paso 1: Saludo inicial\n",
        "print(\"Buenas tardes, bienvenido al servicio de pedido online,\")\n",
        "print(\"El precio de nuestra pizzas es de 8,95 para la familiar o de 9,90 para la mediana.\")\n",
        "\n",
        "# Paso 2: Solicitar número de pizzas familiares\n",
        "pizz_familiar = int(input(\"¿Cuántas pizzas familiares desea? \"))\n",
        "\n",
        "# Paso 3: Solicitar número de pizzas medianas\n",
        "pizz_mediana = int(input(\"Estupendo, ¿cuántas pizzas medianas desea? \"))\n",
        "\n",
        "# Paso 4: Respuesta sobre el número de pizzas\n",
        "print(f\"Estupendo, se están preparando {pizz_familiar} pizzas familiares y {pizz_mediana} pizzas medianas.\")\n",
        "\n",
        "# Paso 5: Solicitar dirección de entrega\n",
        "direcc = input(\"Dígame su dirección: \")\n",
        "\n",
        "# Paso 6: Calcular monto total\n",
        "precio_familiar = 8.971\n",
        "precio_mediana = 9.933\n",
        "\n",
        "monto_total = (pizz_familiar * precio_familiar) + (pizz_mediana * precio_mediana)\n",
        "total_pizzas = pizz_familiar + pizz_mediana\n",
        "\n",
        "# Paso 7: Respuesta final con resumen del pedido\n",
        "print(f\"Le mandaremos las {total_pizzas} pizzas a la dirección {direcc}.\")\n",
        "print(f\"Serán {monto_total:.3f} euros. Muchas gracias por su pedido.\") \n",
        "print(f\"Serán {monto_total:.2f} euros. Muchas gracias por su pedido.\")\n",
        "print(f\"Serán {monto_total:.1f} euros. Muchas gracias por su pedido.\")  \n",
        "print(f\"Serán {monto_total:.0f} euros. Muchas gracias por su pedido.\") \n",
        "print(f\"Serán {monto_total} euros. Muchas gracias por su pedido.\") \n"
      ]
    },
    {
      "cell_type": "markdown",
      "metadata": {
        "id": "f0oqoGDGNPxt"
      },
      "source": [
        "![ejercicio.png](./img/ejercicio.png)\n",
        "## Parte II\n",
        "\n",
        "Crea un programa que realice las siguientes acciones:\n",
        "\n",
        "1. Solicite al usuario que introduzca 3 números enteros separados por comas (por ejemplo: 1,2,3).\n",
        "2. Convierta esa entrada en una lista de números enteros.\n",
        "3. Utilizando funciones built-in, determine el número máximo, el número mínimo y la suma total de los números introducidos.\n",
        "4. Determine la verdad o falsedad de la siguiente afirmación: \"El número máximo menos el número mínimo es igual a la suma total dividida por 5\".\n",
        "5. Muestre los resultados utilizando print."
      ]
    },
    {
      "cell_type": "code",
      "execution_count": null,
      "metadata": {
        "id": "rAlpWiQ9NPxt"
      },
      "outputs": [
        {
          "name": "stdout",
          "output_type": "stream",
          "text": [
            "Número máximo: 150\n",
            "Número mínimo: 5\n",
            "Suma total: 170\n",
            "¿El número máximo menos el número mínimo es igual a la suma total dividida por 5? False\n"
          ]
        }
      ],
      "source": [
        "# 1. Solicitar al usuario que introduzca 3 números enteros separados por comas\n",
        "entrada = input(\"Introduce 3 números enteros separados por comas (por ejemplo: 1,2,3): \")\n",
        "\n",
        "# 2. Convertir esa entrada en una lista de números enteros\n",
        "numeros = list(map(int, entrada.split(',')))\n",
        "''' \n",
        "\"5,8,10\"    (str)\n",
        "   ↓ .split(',')\n",
        "[\"5\", \"8\", \"10\"]   (lista de str)\n",
        "   ↓ map(int, ...)\n",
        "[5, 8, 10]         (objeto map convertido en int)\n",
        "   ↓ list(...)\n",
        "[5, 8, 10]         (lista de int)\n",
        "\n",
        "┌─────────────────────┐\n",
        "│ \"5,8,10\"             │   ← Una sola cadena de texto\n",
        "└─────────┬───────────┘\n",
        "          ↓  .split(',')\n",
        "┌─────────────────────┐\n",
        "│ [\"5\", \"8\", \"10\"]     │   ← Lista de strings\n",
        "└─────────┬───────────┘\n",
        "          ↓  map(int, ...)\n",
        "┌─────────────────────┐\n",
        "│ map(int, [\"5\", \"8\", \"10\"]) │   ← Objeto especial tipo map (aún no es lista)\n",
        "└─────────┬───────────┘\n",
        "          ↓  list(...)\n",
        "┌─────────────────────┐\n",
        "│ [5, 8, 10]           │   ← Lista de números enteros\n",
        "└─────────────────────┘\n",
        "\n",
        "\n",
        "'''\n",
        "\n",
        "# 3. Utilizar funciones built-in para determinar el número máximo, el número mínimo y la suma total\n",
        "maximo = max(numeros)\n",
        "minimo = min(numeros)\n",
        "suma_total = sum(numeros)\n",
        "\n",
        "# 4. Determinar la verdad o falsedad de la afirmación\n",
        "afirmacion = (maximo - minimo) == (suma_total / 5)\n",
        "\n",
        "# 5. Mostrar los resultados\n",
        "print(\"Número máximo:\", maximo)\n",
        "print(\"Número mínimo:\", minimo)\n",
        "print(\"Suma total:\", suma_total)\n",
        "print(\"¿El número máximo menos el número mínimo es igual a la suma total dividida por 5?\", afirmacion)\n"
      ]
    }
  ],
  "metadata": {
    "colab": {
      "provenance": []
    },
    "kernelspec": {
      "display_name": "Python 3",
      "language": "python",
      "name": "python3"
    },
    "language_info": {
      "codemirror_mode": {
        "name": "ipython",
        "version": 3
      },
      "file_extension": ".py",
      "mimetype": "text/x-python",
      "name": "python",
      "nbconvert_exporter": "python",
      "pygments_lexer": "ipython3",
      "version": "3.11.4"
    },
    "orig_nbformat": 4
  },
  "nbformat": 4,
  "nbformat_minor": 0
}
