{
  "cells": [
    {
      "cell_type": "markdown",
      "metadata": {
        "id": "AyOlWS2nRWxH"
      },
      "source": [
        "## PRACTICA OBLIGATORIA: COLECCIONES Y FUNCIONES"
      ]
    },
    {
      "cell_type": "markdown",
      "metadata": {
        "id": "6UOgb0KVRWxH"
      },
      "source": [
        "* La práctica obligatoria de esta unidad consiste varios ejercicios de programación libre a completar sobre Colecciones y Funciones. Descarga este notebook en tu ordenador y trabaja en local.  \n",
        "* Recuerda que debes subirla a tu repositorio personal antes de la sesión en vivo para que puntúe adecuadamente y puedas participar en dicha sesión.  \n",
        "* Recuerda también que no es necesario que esté perfecta, sólo es necesario que se vea el esfuerzo.\n",
        "* Esta práctica se resolverá en la sesión en vivo correspondiente y la solución se publicará en el repo del curso."
      ]
    },
    {
      "cell_type": "markdown",
      "metadata": {
        "id": "j3yu-tEjRWxH"
      },
      "source": [
        "### Contenidos"
      ]
    },
    {
      "cell_type": "markdown",
      "metadata": {
        "id": "kO-fLH39RWxH"
      },
      "source": [
        "## Ejercicio 1\n",
        "Eleva todos los elementos de la lista al cuadrado\n",
        "> ```ejer_2 = [1,2,3,4,5]```"
      ]
    },
    {
      "cell_type": "code",
      "execution_count": 1,
      "metadata": {
        "id": "ks5l3yi7RWxH"
      },
      "outputs": [
        {
          "name": "stdout",
          "output_type": "stream",
          "text": [
            "[1, 4, 9, 16, 25]\n"
          ]
        }
      ],
      "source": [
        "ejer_2 = [1, 2, 3, 4, 5]\n",
        "resultados = []\n",
        "\n",
        "for numero in ejer_2:\n",
        "    resultados.append(numero ** 2)\n",
        "\n",
        "print(resultados)\n"
      ]
    },
    {
      "cell_type": "markdown",
      "metadata": {
        "id": "kI_Xr5oFRWxI"
      },
      "source": [
        "## Ejercicio 2\n",
        "Haz un programa que detecte todos los duplicados de un elemento en una lista:\n",
        "* Utiliza una variable duplicado para asignarle el valor del elemento del que queremos encontrar todos sus duplicados.\n",
        "* El programa debe devolver todos los índices de los elementos duplicados.\n",
        "* Aplícalo para encontrar los duplicados de \"un\", \"es\" y \"binario\" de:  \n",
        "\n",
        ">```ejer_3 = [\"Un\", \"árbol\", \"binario\", \"es\", \"una\", \"estructura\", \"de\", \"un\", \"tipo\", \"particular\", \"a\", \"veces\", \"no\", \"es\", \"ni\", \"binario\"]```\n"
      ]
    },
    {
      "cell_type": "code",
      "execution_count": null,
      "metadata": {
        "id": "cLY9WB7YRWxI"
      },
      "outputs": [
        {
          "name": "stdout",
          "output_type": "stream",
          "text": [
            "Índices de 'un': [0, 7]\n",
            "Índices de 'es': [3, 13]\n",
            "Índices de 'binario': [2, 15]\n",
            "Índices de 'un': [0, 7]\n",
            "Índices de 'es': [3, 13]\n",
            "Índices de 'binario': [2, 15]\n"
          ]
        }
      ],
      "source": [
        "ejer_3 = [\"Un\", \"árbol\", \"binario\", \"es\", \"una\", \"estructura\", \"de\", \"un\", \"tipo\", \"particular\", \"a\", \"veces\", \"no\", \"es\", \"ni\", \"binario\"]\n",
        "\n",
        "# Función para encontrar duplicados\n",
        "def encontrar_duplicados(lista, duplicado):\n",
        "    indices = []  # Lista para guardar los índices de los duplicados\n",
        "    for i, elemento in enumerate(lista):\n",
        "        if elemento.lower() == duplicado.lower():  # Usamos lower() para hacer la búsqueda insensible a mayúsculas/minúsculas\n",
        "            indices.append(i)\n",
        "    return indices\n",
        "\n",
        "# Definir los elementos de los cuales se van a buscar duplicados\n",
        "elementos_a_buscar = [\"un\", \"es\", \"binario\"]\n",
        "\n",
        "# Iteramos sobre los elementos a buscar\n",
        "for elemento in elementos_a_buscar:\n",
        "    indices = encontrar_duplicados(ejer_3, elemento)\n",
        "    print(f\"Índices de '{elemento}': {indices}\")\n",
        "\n",
        "\n",
        "\n"
      ]
    },
    {
      "cell_type": "markdown",
      "metadata": {
        "id": "3WrBd5QaRWxI"
      },
      "source": [
        "## Ejercicio 3\n",
        "1. ¿Cuántas veces se repite el 3 en la siguiente tupla?\n",
        "2. Crea una tupla nueva con los elementos desde la posicion 5 a la 10.\n",
        "3. ¿Cuántos elementos tiene la tupla `ejer_3`?\n",
        "> ```ejer_9 = (3, 20, 3, 47, 19, 3, 29, 45, 67, 78, 90, 3, 3, 5, 2, 4, 7, 9, 4, 2, 4, 3, 3, 4, 6, 7)```"
      ]
    },
    {
      "cell_type": "code",
      "execution_count": 7,
      "metadata": {
        "id": "bkv_R5LYRWxI"
      },
      "outputs": [
        {
          "name": "stdout",
          "output_type": "stream",
          "text": [
            "El número 3 se repite 7 veces.\n",
            "Subtupla de la posición 5 a la 10: (3, 29, 45, 67, 78, 90)\n",
            "La tupla 'ejer_9' tiene 26 elementos.\n"
          ]
        }
      ],
      "source": [
        "ejer_9 = (3, 20, 3, 47, 19, 3, 29, 45, 67, 78, 90, 3, 3, 5, 2, 4, 7, 9, 4, 2, 4, 3, 3, 4, 6, 7)\n",
        "\n",
        "# 1. ¿Cuántas veces se repite el 3 en la tupla?\n",
        "repeticiones_3 = ejer_9.count(3)\n",
        "print(f\"El número 3 se repite {repeticiones_3} veces.\")\n",
        "\n",
        "# 2. Crear una tupla nueva con los elementos desde la posición 5 a la 10\n",
        "subtupla = ejer_9[5:11]  # Desde el índice 5 hasta el índice 10 (inclusive)\n",
        "print(\"Subtupla de la posición 5 a la 10:\", subtupla)\n",
        "\n",
        "# 3. ¿Cuántos elementos tiene la tupla 'ejer_3'?\n",
        "num_elementos = len(ejer_9)\n",
        "print(f\"La tupla 'ejer_9' tiene {num_elementos} elementos.\")\n"
      ]
    },
    {
      "cell_type": "markdown",
      "metadata": {
        "id": "6g8Y54AeRWxI"
      },
      "source": [
        "## Ejercicio 4\n",
        "Comprueba si el numero 60 esta en la tupla del ejercicio 3"
      ]
    },
    {
      "cell_type": "code",
      "execution_count": 8,
      "metadata": {
        "id": "F8VTEZonRWxI"
      },
      "outputs": [
        {
          "name": "stdout",
          "output_type": "stream",
          "text": [
            "El número 60 no está en la tupla.\n"
          ]
        }
      ],
      "source": [
        "ejer_9 = (3, 20, 3, 47, 19, 3, 29, 45, 67, 78, 90, 3, 3, 5, 2, 4, 7, 9, 4, 2, 4, 3, 3, 4, 6, 7)\n",
        "\n",
        "# Comprobar si el número 60 está en la tupla\n",
        "if 60 in ejer_9:\n",
        "    print(\"El número 60 está en la tupla.\")\n",
        "else:\n",
        "    print(\"El número 60 no está en la tupla.\")\n"
      ]
    },
    {
      "cell_type": "markdown",
      "metadata": {
        "id": "y0fg-ZA6RWxI"
      },
      "source": [
        "## Ejercicio 5\n",
        "1. Convierte la tupla del ejercicio 3 en una lista\n",
        "2. Convierte la tupla del ejercicio 3 en un set\n",
        "3. Convierte la tupla del ejercicio 3 en un diccionario. Usa también los indices"
      ]
    },
    {
      "cell_type": "code",
      "execution_count": 9,
      "metadata": {
        "id": "_O5hXr01RWxI"
      },
      "outputs": [
        {
          "name": "stdout",
          "output_type": "stream",
          "text": [
            "Lista: [3, 20, 3, 47, 19, 3, 29, 45, 67, 78, 90, 3, 3, 5, 2, 4, 7, 9, 4, 2, 4, 3, 3, 4, 6, 7]\n",
            "Set: {2, 3, 67, 5, 4, 7, 6, 9, 45, 78, 47, 19, 20, 90, 29}\n",
            "Diccionario: {0: 3, 1: 20, 2: 3, 3: 47, 4: 19, 5: 3, 6: 29, 7: 45, 8: 67, 9: 78, 10: 90, 11: 3, 12: 3, 13: 5, 14: 2, 15: 4, 16: 7, 17: 9, 18: 4, 19: 2, 20: 4, 21: 3, 22: 3, 23: 4, 24: 6, 25: 7}\n"
          ]
        }
      ],
      "source": [
        "# Tupla original\n",
        "ejer_9 = (3, 20, 3, 47, 19, 3, 29, 45, 67, 78, 90, 3, 3, 5, 2, 4, 7, 9, 4, 2, 4, 3, 3, 4, 6, 7)\n",
        "\n",
        "# 1. Convierte la tupla en una lista\n",
        "lista = list(ejer_9)\n",
        "print(\"Lista:\", lista)\n",
        "\n",
        "# 2. Convierte la tupla en un set\n",
        "conjunto = set(ejer_9)\n",
        "print(\"Set:\", conjunto)\n",
        "\n",
        "# 3. Convierte la tupla en un diccionario usando los índices como claves\n",
        "diccionario = dict(enumerate(ejer_9))\n",
        "print(\"Diccionario:\", diccionario)\n"
      ]
    },
    {
      "cell_type": "markdown",
      "metadata": {
        "id": "eOdWWbxvRWxJ"
      },
      "source": [
        "## Ejercicio 6\n",
        "Multiplica todos los valores del diccionario\n",
        "> ```ejer_6 = {1: 11, 2: 22, 3: 33, 4: 44, 5: 55}```"
      ]
    },
    {
      "cell_type": "code",
      "execution_count": 10,
      "metadata": {
        "id": "KcuByovKRWxJ"
      },
      "outputs": [
        {
          "name": "stdout",
          "output_type": "stream",
          "text": [
            "El resultado de multiplicar todos los valores es: 19326120\n"
          ]
        }
      ],
      "source": [
        "ejer_6 = {1: 11, 2: 22, 3: 33, 4: 44, 5: 55}\n",
        "resultado = 1  # Inicializamos el resultado como 1 porque estamos multiplicando\n",
        "\n",
        "for valor in ejer_6.values():  # Recorremos todos los valores del diccionario\n",
        "    resultado *= valor  # Multiplicamos el resultado por cada valor\n",
        "\n",
        "print(\"El resultado de multiplicar todos los valores es:\", resultado)\n"
      ]
    },
    {
      "cell_type": "markdown",
      "metadata": {
        "id": "W7TUSaKRRWxJ"
      },
      "source": [
        "## Ejercicio 7\n",
        "\n",
        "1. Crea un diccionario que describa un libro, con los siguientes campos o claves: \"titulo\",\"autor\",\"idioma original\",\"año de publicación\".\n",
        "2. Crea un a lista, llamada librería.\n",
        "3. Añade cuatro libros a tu elección a la librería."
      ]
    },
    {
      "cell_type": "code",
      "execution_count": 14,
      "metadata": {
        "id": "d-IMRvxRRWxJ"
      },
      "outputs": [
        {
          "name": "stdout",
          "output_type": "stream",
          "text": [
            "[{'titulo': 'Cien años de soledad', 'autor': 'Gabriel García Márquez', 'idioma original': 'Español', 'año de publicación': 1967}, {'titulo': 'Don Quijote de la Mancha', 'autor': 'Miguel de Cervantes', 'idioma original': 'Español', 'año de publicación': 1605}, {'titulo': '1984', 'autor': 'George Orwell', 'idioma original': 'Inglés', 'año de publicación': 1949}, {'titulo': 'La sombra del viento', 'autor': 'Carlos Ruiz Zafón', 'idioma original': 'Español', 'año de publicación': 2001}, {'titulo': 'El Gran Gatsby', 'autor': 'F. Scott Fitzgerald', 'idioma original': 'Inglés', 'año de publicación': 1925}]\n",
            "------------------------------------------------------------\n",
            "Título: Cien años de soledad\n",
            "Autor: Gabriel García Márquez\n",
            "Idioma original: Español\n",
            "Año de publicación: 1967\n",
            "------------------------------\n",
            "Título: Don Quijote de la Mancha\n",
            "Autor: Miguel de Cervantes\n",
            "Idioma original: Español\n",
            "Año de publicación: 1605\n",
            "------------------------------\n",
            "Título: 1984\n",
            "Autor: George Orwell\n",
            "Idioma original: Inglés\n",
            "Año de publicación: 1949\n",
            "------------------------------\n",
            "Título: La sombra del viento\n",
            "Autor: Carlos Ruiz Zafón\n",
            "Idioma original: Español\n",
            "Año de publicación: 2001\n",
            "------------------------------\n",
            "Título: El Gran Gatsby\n",
            "Autor: F. Scott Fitzgerald\n",
            "Idioma original: Inglés\n",
            "Año de publicación: 1925\n",
            "------------------------------\n"
          ]
        }
      ],
      "source": [
        "libro_1 = {\n",
        "    \"titulo\": \"Cien años de soledad\",\n",
        "    \"autor\": \"Gabriel García Márquez\",\n",
        "    \"idioma original\": \"Español\",\n",
        "    \"año de publicación\": 1967\n",
        "}\n",
        "\n",
        "libreria = []\n",
        "\n",
        "libro_2 = {\n",
        "    \"titulo\": \"Don Quijote de la Mancha\",\n",
        "    \"autor\": \"Miguel de Cervantes\",\n",
        "    \"idioma original\": \"Español\",\n",
        "    \"año de publicación\": 1605\n",
        "}\n",
        "\n",
        "libro_3 = {\n",
        "    \"titulo\": \"1984\",\n",
        "    \"autor\": \"George Orwell\",\n",
        "    \"idioma original\": \"Inglés\",\n",
        "    \"año de publicación\": 1949\n",
        "}\n",
        "\n",
        "libro_4 = {\n",
        "    \"titulo\": \"La sombra del viento\",\n",
        "    \"autor\": \"Carlos Ruiz Zafón\",\n",
        "    \"idioma original\": \"Español\",\n",
        "    \"año de publicación\": 2001\n",
        "}\n",
        "\n",
        "libro_5 = {\n",
        "    \"titulo\": \"El Gran Gatsby\",\n",
        "    \"autor\": \"F. Scott Fitzgerald\",\n",
        "    \"idioma original\": \"Inglés\",\n",
        "    \"año de publicación\": 1925\n",
        "}\n",
        "\n",
        "# Añadir los libros a la librería\n",
        "libreria.append(libro_1)\n",
        "libreria.append(libro_2)\n",
        "libreria.append(libro_3)\n",
        "libreria.append(libro_4)\n",
        "libreria.append(libro_5)\n",
        "\n",
        "# Imprimir la librería para ver los resultados\n",
        "print(libreria)\n",
        "print(\"-\"*60)\n",
        "#############################################\n",
        "\n",
        "# Librería con los libros\n",
        "libreria = [libro_1, libro_2, libro_3, libro_4, libro_5]\n",
        "\n",
        "# Iterar sobre la librería para imprimir cada libro\n",
        "for libro in libreria:\n",
        "    print(\"Título:\", libro[\"titulo\"])\n",
        "    print(\"Autor:\", libro[\"autor\"])\n",
        "    print(\"Idioma original:\", libro[\"idioma original\"])\n",
        "    print(\"Año de publicación:\", libro[\"año de publicación\"])\n",
        "    print(\"-\" * 30)  # Línea separadora para claridad\n",
        "\n"
      ]
    },
    {
      "cell_type": "markdown",
      "metadata": {
        "id": "glMoedjYRWxJ"
      },
      "source": [
        "## Ejercicio 8\n",
        "Modifica los valores del idioma de todos los libros del ejercicio anterior para que sea \"esperanto\"\n"
      ]
    },
    {
      "cell_type": "code",
      "execution_count": null,
      "metadata": {
        "id": "veNdC-uwRWxJ"
      },
      "outputs": [
        {
          "name": "stdout",
          "output_type": "stream",
          "text": [
            "Titulo: Cien años de soledad\n",
            "Autor: Gabriel García Márquez\n",
            "Idioma original: esperanto\n",
            "Año de publicación: 1967\n",
            "------------------------------\n",
            "Titulo: Don Quijote de la Mancha\n",
            "Autor: Miguel de Cervantes\n",
            "Idioma original: esperanto\n",
            "Año de publicación: 1605\n",
            "------------------------------\n",
            "Titulo: 1984\n",
            "Autor: George Orwell\n",
            "Idioma original: esperanto\n",
            "Año de publicación: 1949\n",
            "------------------------------\n",
            "Titulo: La sombra del viento\n",
            "Autor: Carlos Ruiz Zafón\n",
            "Idioma original: esperanto\n",
            "Año de publicación: 2001\n",
            "------------------------------\n",
            "Titulo: El Gran Gatsby\n",
            "Autor: F. Scott Fitzgerald\n",
            "Idioma original: esperanto\n",
            "Año de publicación: 1925\n",
            "------------------------------\n"
          ]
        }
      ],
      "source": [
        "# Librería con los libros\n",
        "libreria = [libro_1, libro_2, libro_3, libro_4, libro_5]\n",
        "\n",
        "# Modificar el valor de la clave 'idioma original' en cada libro\n",
        "for libro in libreria:\n",
        "    libro[\"idioma original\"] = \"esperanto\"  # Cambiar el valor de la clave \"idioma original\"\n",
        "\n",
        "# Imprimir la librería para verificar los cambios\n",
        "for libro in libreria:\n",
        "    for clave, valor in libro.items():\n",
        "        print(f\"{clave.capitalize()}: {valor}\") #clave.capitalize() pone en mayusculas la primera\n",
        "    print(\"-\" * 30)  # Línea separadora para claridad\n"
      ]
    },
    {
      "cell_type": "markdown",
      "metadata": {
        "id": "DRCJG04KRWxJ"
      },
      "source": [
        "## Ejercicio 9\n",
        "1. Escribe un programa que dada una variable titulo busque los libros que hay en la librería con ese título. Si no se encuentra debe devolver el mensaje `Ese no lo tengo, ¿mola?`\n",
        "2. Pruena que el programa con uno de tus libros y con otro que no contenga tu librería."
      ]
    },
    {
      "cell_type": "code",
      "execution_count": 23,
      "metadata": {
        "id": "eWHdJi9BRWxJ"
      },
      "outputs": [
        {
          "name": "stdout",
          "output_type": "stream",
          "text": [
            "Libro encontrado: {'titulo': '1984', 'autor': 'George Orwell', 'idioma original': 'inglés', 'año de publicación': 1949}\n",
            "Ese no lo tengo, ¿mola?\n",
            "--------------------------------------------------\n",
            "Libro encontrado:\n",
            "Titulo: Cien años de soledad\n",
            "Autor: Gabriel García Márquez\n",
            "Idioma original: español\n",
            "Año de publicación: 1967\n",
            "Ese no lo tengo, ¿mola?\n",
            "--------------------------------------------------\n",
            "Título: Cien años de soledad\n",
            "Autor: Gabriel García Márquez\n",
            "Idioma original: español\n",
            "Año de publicación: 1967\n",
            "Ese no lo tengo, ¿mola?\n"
          ]
        }
      ],
      "source": [
        "# Lista de libros\n",
        "libreria = [\n",
        "    {\"titulo\": \"Cien años de soledad\", \"autor\": \"Gabriel García Márquez\", \"idioma original\": \"español\", \"año de publicación\": 1967},\n",
        "    {\"titulo\": \"1984\", \"autor\": \"George Orwell\", \"idioma original\": \"inglés\", \"año de publicación\": 1949},\n",
        "    {\"titulo\": \"El principito\", \"autor\": \"Antoine de Saint-Exupéry\", \"idioma original\": \"francés\", \"año de publicación\": 1943},\n",
        "    {\"titulo\": \"Don Quijote de la Mancha\", \"autor\": \"Miguel de Cervantes\", \"idioma original\": \"español\", \"año de publicación\": 1605}\n",
        "]\n",
        "\n",
        "# Función para buscar un libro por título\n",
        "def buscar_libro(titulo):\n",
        "    encontrado = False  # Variable para comprobar si encontramos el libro\n",
        "    for libro in libreria:  # Recorremos la lista de libros\n",
        "        if libro[\"titulo\"].lower() == titulo.lower():  # Comprobamos si el título coincide, sin importar mayúsculas/minúsculas\n",
        "            print(f\"Libro encontrado: {libro}\")\n",
        "            encontrado = True  # Marcamos que hemos encontrado el libro\n",
        "            break  # Terminamos el bucle al encontrar el libro\n",
        "    if not encontrado:\n",
        "        print(\"Ese no lo tengo, ¿mola?\")  # Si no encontramos el libro, mostramos el mensaje\n",
        "\n",
        "# Ejemplo de uso con un libro que está en la librería\n",
        "buscar_libro(\"1984\")\n",
        "\n",
        "# Ejemplo de uso con un libro que no está en la librería\n",
        "buscar_libro(\"Harry Potter\")\n",
        "\n",
        "print(\"-\"*50)\n",
        "\n",
        "\n",
        "# 1. Escribe un programa que dada una variable titulo busque los libros que hay en la librería con ese título.\n",
        "def buscar_libro(titulo, libreria):\n",
        "    for libro in libreria:\n",
        "        if libro[\"titulo\"].lower() == titulo.lower():  # Comparación insensible a mayúsculas/minúsculas\n",
        "            # Imprimir el libro en formato más estructurado\n",
        "            print(\"Libro encontrado:\")\n",
        "            for clave, valor in libro.items():\n",
        "                print(f\"{clave.capitalize()}: {valor}\")\n",
        "            return  # Si encuentra el libro, termina la función\n",
        "    print(\"Ese no lo tengo, ¿mola?\")  # Si no encuentra el libro\n",
        "\n",
        "# Ejemplo de librería\n",
        "libreria = [\n",
        "    {\"titulo\": \"Cien años de soledad\", \"autor\": \"Gabriel García Márquez\", \"idioma original\": \"español\", \"año de publicación\": 1967},\n",
        "    {\"titulo\": \"1984\", \"autor\": \"George Orwell\", \"idioma original\": \"inglés\", \"año de publicación\": 1949},\n",
        "    {\"titulo\": \"El amor en los tiempos del cólera\", \"autor\": \"Gabriel García Márquez\", \"idioma original\": \"español\", \"año de publicación\": 1985}\n",
        "]\n",
        "\n",
        "# Probar con un libro que sí está en la librería\n",
        "buscar_libro(\"Cien años de soledad\", libreria)\n",
        "\n",
        "# Probar con un libro que NO está en la librería\n",
        "buscar_libro(\"La sombra del viento\", libreria)\n",
        "\n",
        "\n",
        "\n",
        "\n",
        "\n",
        "# 1. Escribe un programa que dada una variable titulo busque los libros que hay en la librería con ese título.\n",
        "def buscar_libro(titulo, libreria):\n",
        "    for libro in libreria:\n",
        "        if libro[\"titulo\"].lower() == titulo.lower():  # Comparación insensible a mayúsculas/minúsculas\n",
        "            # Imprimir el libro de forma más legible\n",
        "            print(f\"Título: {libro['titulo']}\")\n",
        "            print(f\"Autor: {libro['autor']}\")\n",
        "            print(f\"Idioma original: {libro['idioma original']}\")\n",
        "            print(f\"Año de publicación: {libro['año de publicación']}\")\n",
        "            return  # Si encuentra el libro, termina la función\n",
        "    print(\"Ese no lo tengo, ¿mola?\")  # Si no encuentra el libro\n",
        "\n",
        "print(\"-\"*50)\n",
        "# Ejemplo de librería\n",
        "libreria = [\n",
        "    {\"titulo\": \"Cien años de soledad\", \"autor\": \"Gabriel García Márquez\", \"idioma original\": \"español\", \"año de publicación\": 1967},\n",
        "    {\"titulo\": \"1984\", \"autor\": \"George Orwell\", \"idioma original\": \"inglés\", \"año de publicación\": 1949},\n",
        "    {\"titulo\": \"El amor en los tiempos del cólera\", \"autor\": \"Gabriel García Márquez\", \"idioma original\": \"español\", \"año de publicación\": 1985}\n",
        "]\n",
        "\n",
        "# Probar con un libro que sí está en la librería\n",
        "buscar_libro(\"Cien años de soledad\", libreria)\n",
        "\n",
        "# Probar con un libro que NO está en la librería\n",
        "buscar_libro(\"La sombra del viento\", libreria)\n",
        "\n",
        "\n",
        "\n",
        "\n",
        "\n",
        "\n"
      ]
    },
    {
      "cell_type": "markdown",
      "metadata": {
        "id": "17YOpYuFRWxJ"
      },
      "source": [
        "## Ejercicio 10\n",
        "Convierte el programa del ejercicio 2 en una función al que se le pase el valor a buscar como un argumento posicional"
      ]
    },
    {
      "cell_type": "code",
      "execution_count": 24,
      "metadata": {
        "id": "xbj0LgvnRWxJ"
      },
      "outputs": [
        {
          "name": "stdout",
          "output_type": "stream",
          "text": [
            "Los índices de los duplicados de 'un' son: [0, 7]\n",
            "Los índices de los duplicados de 'es' son: [3, 13]\n",
            "Los índices de los duplicados de 'binario' son: [2, 15]\n"
          ]
        }
      ],
      "source": [
        "# Lista dada\n",
        "ejer_3 = [\"Un\", \"árbol\", \"binario\", \"es\", \"una\", \"estructura\", \"de\", \"un\", \"tipo\", \"particular\", \"a\", \"veces\", \"no\", \"es\", \"ni\", \"binario\"]\n",
        "\n",
        "# Función para encontrar los índices de los duplicados\n",
        "def encontrar_duplicados(elemento, lista):\n",
        "    indices = []  # Lista para almacenar los índices\n",
        "    for i, valor in enumerate(lista):  # Enumeramos para obtener el índice\n",
        "        if valor.lower() == elemento.lower():  # Compara sin diferenciar mayúsculas/minúsculas\n",
        "            indices.append(i)  # Añadir el índice a la lista\n",
        "    return indices\n",
        "\n",
        "# Función que recibe un valor a buscar y lo usa para encontrar los duplicados\n",
        "def buscar_duplicados(lista, valor_a_buscar):\n",
        "    indices = encontrar_duplicados(valor_a_buscar, lista)\n",
        "    if indices:\n",
        "        print(f\"Los índices de los duplicados de '{valor_a_buscar}' son: {indices}\")\n",
        "    else:\n",
        "        print(f\"No se encontraron duplicados de '{valor_a_buscar}'\")\n",
        "\n",
        "# Llamada a la función con diferentes valores\n",
        "buscar_duplicados(ejer_3, \"un\")\n",
        "buscar_duplicados(ejer_3, \"es\")\n",
        "buscar_duplicados(ejer_3, \"binario\")\n"
      ]
    },
    {
      "cell_type": "markdown",
      "metadata": {
        "id": "xZ-sWJxPRWxJ"
      },
      "source": [
        "## Ejercicio 11\n",
        "Convierte el programa del ejercicio 9 en una función al que se le pasen como argumentos la librería, posicional, y el título, argumento keyword con valor \"ninguno\", por defecto."
      ]
    },
    {
      "cell_type": "code",
      "execution_count": null,
      "metadata": {
        "id": "4-JrsMdNRWxK"
      },
      "outputs": [
        {
          "name": "stdout",
          "output_type": "stream",
          "text": [
            "Libro encontrado: 1984\n",
            "Autor: George Orwell\n",
            "Idioma original: Inglés\n",
            "Año de publicación: 1949\n",
            "\n",
            "Ese no lo tengo, ¿mola?\n",
            "\n",
            "\n"
          ]
        }
      ],
      "source": [
        "# Librería con varios libros (diccionarios)\n",
        "libreria = [\n",
        "    {\"titulo\": \"Cien años de soledad\", \"autor\": \"Gabriel García Márquez\", \"idioma original\": \"Español\", \"año de publicación\": 1967},\n",
        "    {\"titulo\": \"1984\", \"autor\": \"George Orwell\", \"idioma original\": \"Inglés\", \"año de publicación\": 1949},\n",
        "    {\"titulo\": \"Don Quijote de la Mancha\", \"autor\": \"Miguel de Cervantes\", \"idioma original\": \"Español\", \"año de publicación\": 1605},\n",
        "    {\"titulo\": \"Fahrenheit 451\", \"autor\": \"Ray Bradbury\", \"idioma original\": \"Inglés\", \"año de publicación\": 1953}\n",
        "]\n",
        "\n",
        "# Función para buscar un libro por título\n",
        "def buscar_libro_por_titulo(libreria, titulo=\"ninguno\"):\n",
        "    if titulo == \"ninguno\":\n",
        "        print(\"Por favor, proporciona un título para realizar la búsqueda.\")\n",
        "        return  # Salir de la función si no se proporciona un título\n",
        "    \n",
        "    encontrado = False  # Variable para comprobar si encontramos el libro\n",
        "    for libro in libreria:\n",
        "        if libro[\"titulo\"].lower() == titulo.lower():  # Comparamos el título en minúsculas\n",
        "            print(f\"Libro encontrado: {libro['titulo']}\")\n",
        "            print(f\"Autor: {libro['autor']}\")\n",
        "            print(f\"Idioma original: {libro['idioma original']}\")\n",
        "            print(f\"Año de publicación: {libro['año de publicación']}\")\n",
        "            encontrado = True  # Si encontramos el libro, cambiamos a True\n",
        "            break  # Terminamos el bucle si encontramos el libro\n",
        "\n",
        "    if not encontrado:\n",
        "        print(\"Ese no lo tengo, ¿mola?\")\n",
        "\n",
        "# Pruebas con libros en la librería y uno que no está\n",
        "buscar_libro_por_titulo(libreria, \"1984\")  # Libro que está en la librería\n",
        "print()  # Línea en blanco entre pruebas\n",
        "buscar_libro_por_titulo(libreria, \"El Gran Gatsby\")  # Libro que no está en la librería\n",
        "print()  # Línea en blanco entre pruebas\n",
        "buscar_libro_por_titulo(libreria)  # No pasamos título, se usa el valor por defecto\n",
        "\n"
      ]
    },
    {
      "cell_type": "markdown",
      "metadata": {
        "id": "FtJir95QRWxK"
      },
      "source": [
        "## Ejercicio 12\n",
        "Solicitar al usuario que ingrese su dirección email. Imprimir un mensaje indicando si la dirección es válida o no, valiéndose de una función para decidirlo. Una dirección se considerará válida si contiene el símbolo \"@\"."
      ]
    },
    {
      "cell_type": "code",
      "execution_count": 28,
      "metadata": {
        "id": "sk852IZ8RWxK"
      },
      "outputs": [
        {
          "name": "stdout",
          "output_type": "stream",
          "text": [
            "La dirección de email es válida.\n"
          ]
        }
      ],
      "source": [
        "# Función para verificar si el correo electrónico es válido\n",
        "def es_email_valido(email):\n",
        "    # Comprobamos si el símbolo \"@\" está en la dirección\n",
        "    if \"@\" in email:\n",
        "        return True\n",
        "    else:\n",
        "        return False\n",
        "\n",
        "# Solicitar al usuario que ingrese su dirección de email\n",
        "email_usuario = input(\"Introduce tu dirección de email: \")\n",
        "\n",
        "# Verificar si el email es válido utilizando la función\n",
        "if es_email_valido(email_usuario):\n",
        "    print(\"La dirección de email es válida.\")\n",
        "else:\n",
        "    print(\"La dirección de email no es válida.\")\n"
      ]
    },
    {
      "cell_type": "markdown",
      "metadata": {
        "id": "Kw1MWBwBRWxK"
      },
      "source": [
        "## Ejercicio 13\n",
        "Escribe una función que compruebe si un DNI es válido, devolviendo `True` en caso afirmativo.  \n",
        "En primer lugar, el DNI debe tener entre 7 y 8 dígitos numéricos.  \n",
        "Para saber si la letra del DNI es correcta puedes utilizar el siguiente fragmento de código:\n",
        ">```Python\n",
        ">DNI= 55555555\n",
        ">palabra='TRWAGMYFPDXBNJZSQVHLCKE'\n",
        ">print('La letra del DNI es: ', palabra[DNI%23])\n",
        ">````\n"
      ]
    },
    {
      "cell_type": "code",
      "execution_count": 39,
      "metadata": {
        "id": "F5Z9rSHqRWxK"
      },
      "outputs": [
        {
          "name": "stdout",
          "output_type": "stream",
          "text": [
            "DNI válido.\n",
            "72850674z\n"
          ]
        }
      ],
      "source": [
        "def es_dni_valido(dni):\n",
        "    palabra = 'TRWAGMYFPDXBNJZSQVHLCKE'\n",
        "\n",
        "    # El DNI debe tener 8 o 9 caracteres (7-8 números + 1 letra)\n",
        "    if len(dni) < 8 or len(dni) > 9:\n",
        "        return False\n",
        "\n",
        "    numero = dni[:-1]        # Parte numérica\n",
        "    letra = dni[-1].upper()  # Último carácter, la letra (mayúscula)\n",
        "\n",
        "    # Comprobar que la parte numérica contiene solo dígitos\n",
        "    if not numero.isdigit():\n",
        "        return False\n",
        "\n",
        "    numero = int(numero)\n",
        "    letra_correcta = palabra[numero % 23]\n",
        "\n",
        "    # Comparar letra introducida con la correcta\n",
        "    return letra == letra_correcta\n",
        "\n",
        "\n",
        "# --- Programa principal ---\n",
        "dni_usuario = input(\"Introduce tu DNI con letra mayúscula (por ejemplo 12345678Z): \")\n",
        "\n",
        "if es_dni_valido(dni_usuario):\n",
        "    print(\"DNI válido.\")\n",
        "    print(dni_usuario)\n",
        "else:\n",
        "    print(\"DNI no válido.\")\n",
        "    print(dni_usuario)\n"
      ]
    }
  ],
  "metadata": {
    "colab": {
      "provenance": []
    },
    "kernelspec": {
      "display_name": "Python 3",
      "language": "python",
      "name": "python3"
    },
    "language_info": {
      "codemirror_mode": {
        "name": "ipython",
        "version": 3
      },
      "file_extension": ".py",
      "mimetype": "text/x-python",
      "name": "python",
      "nbconvert_exporter": "python",
      "pygments_lexer": "ipython3",
      "version": "3.11.4"
    },
    "orig_nbformat": 4
  },
  "nbformat": 4,
  "nbformat_minor": 0
}
