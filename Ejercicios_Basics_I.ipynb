{
 "cells": [
  {
   "cell_type": "markdown",
   "metadata": {},
   "source": [
    "![imagen](./img/ejercicios.png)"
   ]
  },
  {
   "cell_type": "markdown",
   "metadata": {},
   "source": [
    "# Ejercicios Python Basics I"
   ]
  },
  {
   "cell_type": "markdown",
   "metadata": {},
   "source": [
    "## Ejercicio 0\n",
    "Imprime por pantalla esta cita con el siguiente formato\n",
    "\n",
    "![imagen](./img/frase_Einstein.PNG)"
   ]
  },
  {
   "cell_type": "code",
   "execution_count": 11,
   "metadata": {},
   "outputs": [
    {
     "name": "stdout",
     "output_type": "stream",
     "text": [
      "¿Por qué esta magnífica tecnología científica,\n",
      "\tque ahorra trabajo y nos hace la vida mas fácil,\n",
      "\t\tnos aporta tan poca felicidad?\n",
      "\t\t\tLa repuesta es está, simplemente: porque aún no hemos aprendido a usarla con tino.\n",
      "\"Albert Einstein\"\n",
      "\t\t\t\t\t\t\t\t\t\t\t\t'Alea jacta est '\n",
      "\tLa Ciencia de Datos es el petróleo del siglo XXI.\n",
      "\t\tLa Ciencia de Datos es el petróleo del siglo XXI.\n",
      "> La Ciencia de Datos es el petróleo del siglo XXI.\n",
      "> > La Ciencia de Datos es el petróleo del siglo XXI.\n"
     ]
    }
   ],
   "source": [
    "print('¿Por qué esta magnífica tecnología científica,')\n",
    "print('\\tque ahorra trabajo y nos hace la vida mas fácil,')\n",
    "print('\\t\\tnos aporta tan poca felicidad?')\n",
    "print('\\t\\t\\tLa repuesta es está, simplemente: porque aún no hemos aprendido a usarla con tino.')\n",
    "print('\"Albert Einstein\"')\n",
    "print(\"\\t\\t\\t\\t\\t\\t\\t\\t\\t\\t\\t\\t'Alea jacta est '\")\n",
    "\n",
    "\n",
    "print(\"\\tLa Ciencia de Datos es el petróleo del siglo XXI.\")\n",
    "print(\"\\t\\tLa Ciencia de Datos es el petróleo del siglo XXI.\")\n",
    "\n",
    "print(\"> La Ciencia de Datos es el petróleo del siglo XXI.\")\n",
    "print(\"> > La Ciencia de Datos es el petróleo del siglo XXI.\")"
   ]
  },
  {
   "cell_type": "markdown",
   "metadata": {},
   "source": [
    "## Ejercicio 1\n",
    "1. Escribe el nombre de la calle de tu domicilio en una variable\n",
    "2. Escribe el numero de la calle en otra\n",
    "3. Ciudad en una tercera\n",
    "4. Codigo postal en la cuarta variable\n",
    "5. Imprime las 4 variables concatenadas por pantalla\n",
    "6. Crea una quinta variable que concatene todas ellas\n",
    "7. Imprímela por pantalla"
   ]
  },
  {
   "cell_type": "code",
   "execution_count": 1,
   "metadata": {},
   "outputs": [
    {
     "name": "stdout",
     "output_type": "stream",
     "text": [
      "Dirección completa (variables separadas):\n",
      "Paseo de Cervantes 21, Vitoria, Es un numero pero pongo Europa\n",
      "Paseo de Cervantes   21   Vitoria   Es un numero pero pongo Europa\n",
      "\n",
      "Dirección completa (variable única):\n",
      "Paseo de Cervantes 21, Vitoria, Es un numero pero pongo Europa\n",
      "----------------------------------------------------------------------------------------------------\n",
      "________\n",
      "calleDato\n",
      "21\n",
      "Vitoria\n",
      "01008\n",
      "<class 'str'>\n",
      "<class 'int'>\n",
      "1008\n"
     ]
    }
   ],
   "source": [
    "# 1. Nombre de la calle\n",
    "calle = \"Paseo de Cervantes\"\n",
    "\n",
    "# 2. Número de la calle\n",
    "numero = \"21\"\n",
    "\n",
    "# 3. Ciudad\n",
    "ciudad = \"Vitoria\"\n",
    "\n",
    "# 4. Código postal\n",
    "codigo_postal = \"Es un numero pero pongo Europa\"\n",
    "\n",
    "# 5. Imprimir las variables concatenadas individualmente\n",
    "print(\"Dirección completa (variables separadas):\")\n",
    "print(calle + \" \" + numero + \", \" + ciudad + \", \" + codigo_postal)\n",
    "print(calle, \" \" ,numero, \" \" ,ciudad, \" \" , codigo_postal)\n",
    "\n",
    "#print(\"Los beneficios de %s han sido de %s millones\" % (\"septiembre\", beneficio))\n",
    "\n",
    "#print(\"Los beneficios de\", \"septiembre\", \"han sido de\" ,beneficio, \"millones\")\n",
    "\n",
    "# 6. Crear una quinta variable que concatene todo\n",
    "direccion_completa = calle + \" \" + numero + \", \" + ciudad + \", \" + codigo_postal\n",
    "\n",
    "# 7. Imprimir la variable final\n",
    "print(\"\\nDirección completa (variable única):\")\n",
    "print(direccion_completa)\n",
    "\n",
    "\n",
    "print(\"-\" * 100)\n",
    "print(\"________\")\n",
    "\n",
    "variable= \"calleDato\"\n",
    "print(variable)\n",
    "numerocalle= \"21\"\n",
    "print(numerocalle)\n",
    "ciudad= \"Vitoria\"\n",
    "print(ciudad)\n",
    "cod_postal= \"01008\"\n",
    "print(cod_postal)\n",
    "print (type (cod_postal))\n",
    "cod_postal = int(cod_postal)\n",
    "print(type(cod_postal))\n",
    "print (cod_postal)"
   ]
  },
  {
   "cell_type": "markdown",
   "metadata": {},
   "source": [
    "## Ejercicio 2\n",
    "Repite el ejercicio 1, pero pidiendo estos datos al usuario mediante un input(), imprimiendo a continuación la dirección completa"
   ]
  },
  {
   "cell_type": "code",
   "execution_count": 63,
   "metadata": {},
   "outputs": [
    {
     "name": "stdout",
     "output_type": "stream",
     "text": [
      "\n",
      "Dirección completa:\n",
      "dato 45, vitoria, 01010\n",
      "dato 45 vitoria 01010\n"
     ]
    }
   ],
   "source": [
    "# Pedir datos al usuario\n",
    "calle = input(\"Introduce el nombre de tu calle: \")\n",
    "numero = input(\"Introduce el número de la calle: \")\n",
    "ciudad = input(\"Introduce el nombre de tu ciudad: \")\n",
    "codigo_postal = input(\"Introduce el código postal: \")\n",
    "\n",
    "# Mostrar la dirección concatenada usando f-string\n",
    "print(\"\\nDirección completa:\") #\\n es para dar un salto de linea\n",
    "print(f\"{calle} {numero}, {ciudad}, {codigo_postal}\")\n",
    "\n",
    "print(calle , numero , ciudad , codigo_postal)\n",
    "\n",
    "#print(\"Los beneficios de\", \"septiembre\", \"han sido de\" ,beneficio, \"millones\")\n"
   ]
  },
  {
   "cell_type": "markdown",
   "metadata": {},
   "source": [
    "## Ejercicio 3\n",
    "¿Qué variables están mal escritas y por qué? Realiza primero tu hipótesis y luego ejecuta las variables para comprobarlo. En ese orden :)\n",
    "\n",
    "\n",
    "1. mi_variable = \"Economía\"\n",
    "2. otra_var = \"Ejercicio\n",
    "3. True = \"Ejercicio\"\n",
    "4. mi variab1e = \"Alpha\"\n",
    "5. import = 40\n",
    "6. 81mi_variable = \"Agua\"\n",
    "7. mi_variable10 = 6"
   ]
  },
  {
   "cell_type": "code",
   "execution_count": 13,
   "metadata": {},
   "outputs": [
    {
     "name": "stdout",
     "output_type": "stream",
     "text": [
      "Economía\n",
      "Ejercicio\n",
      "6\n"
     ]
    }
   ],
   "source": [
    "#A donde vamos? ande te has metido T_T\n",
    "\n",
    "#mi_variable = \"Economía\": esta bien\n",
    "#------------------------------------------------------------------------------------------------\n",
    "\n",
    "#otra_var = \"Ejercicio\": check bien \n",
    "#------------------------------------------------------------------------------------------------\n",
    "\n",
    "#True = \"Ejercicio\": booleano, nada \n",
    "#------------------------------------------------------------------------------------------------\n",
    "\n",
    "#mi variab1e = \"Alpha\": espacio en la variable, mal \n",
    "\n",
    "#-------------------------------------------------------------------------------------------------\n",
    "\n",
    "#import = 40: mal, para importar librerias o trabajos o demas\n",
    "#---------------------------------------------------------------------------------------------------\n",
    "\n",
    "#81mi_variable = \"Agua\": no esta escrito en letras, no puedes numeros al princpio\n",
    "#---------------------------------------------------------------------------------------------------\n",
    "\n",
    "#mi_variable10 = 6: bien\n",
    "\n",
    "mi_variable = \"Economía\"\n",
    "print(mi_variable)\n",
    "\n",
    "otra_var = \"Ejercicio\"\n",
    "print(otra_var)\n",
    "\n",
    "mi_variable10 = 6\n",
    "print(mi_variable10)\n"
   ]
  },
  {
   "cell_type": "markdown",
   "metadata": {},
   "source": [
    "## Ejercicio 4\n",
    "Realiza un conversor de grados Celsius a Fahrenheit. El conversor tiene que recibir el input del usuario y devolver la conversión.\n",
    "\n",
    "La conversión de grados sigue la siguiente fórmula: F = C × (9 / 5) + 32 "
   ]
  },
  {
   "cell_type": "code",
   "execution_count": 78,
   "metadata": {},
   "outputs": [
    {
     "name": "stdout",
     "output_type": "stream",
     "text": [
      "30.0 grados Celsius son 86.0 grados Fahrenheit.\n"
     ]
    }
   ],
   "source": [
    "# Solicitar al usuario la temperatura en grados Celsius\n",
    "celsius = float(input(\"Introduce la temperatura en grados Celsius: \"))\n",
    "\n",
    "# Fórmula de conversión a Fahrenheit\n",
    "fahrenheit = celsius * (9 / 5) + 32\n",
    "\n",
    "# Mostrar el resultado\n",
    "print(f\"{celsius} grados Celsius son {fahrenheit} grados Fahrenheit.\")\n"
   ]
  },
  {
   "cell_type": "markdown",
   "metadata": {},
   "source": [
    "## Ejercicio 5\n",
    "Comenta  el Ejercicio 4. Pon un comentario multilinea y haz comentarios de cada linea de código. Indica cuál es el input y el output de tu código."
   ]
  },
  {
   "cell_type": "code",
   "execution_count": 79,
   "metadata": {},
   "outputs": [
    {
     "name": "stdout",
     "output_type": "stream",
     "text": [
      "30.0 grados Celsius son 86.0 grados Fahrenheit.\n"
     ]
    }
   ],
   "source": [
    "\"\"\"\n",
    "Este programa convierte la temperatura de grados Celsius a Fahrenheit.\n",
    "La conversión se realiza mediante la fórmula F = C × (9 / 5) + 32,\n",
    "donde C es la temperatura en grados Celsius.\n",
    "\"\"\"\n",
    "\n",
    "# Solicitar al usuario la temperatura en grados Celsius.\n",
    "# Usamos 'input()' para capturar la entrada del usuario y convertirla a tipo float\n",
    "celsius = float(input(\"Introduce la temperatura en grados Celsius: \"))\n",
    "\n",
    "# Realizar la conversión a Fahrenheit usando la fórmula F = C × (9 / 5) + 32\n",
    "# Multiplicamos la temperatura en Celsius por 9/5 y luego sumamos 32\n",
    "fahrenheit = celsius * (9 / 5) + 32\n",
    "\n",
    "# Mostrar el resultado final al usuario en formato legible\n",
    "# Utilizamos f-string para mostrar el valor de celsius y fahrenheit de forma clara\n",
    "print(f\"{celsius} grados Celsius son {fahrenheit} grados Fahrenheit.\")\n"
   ]
  }
 ],
 "metadata": {
  "kernelspec": {
   "display_name": "Python 3",
   "language": "python",
   "name": "python3"
  },
  "language_info": {
   "codemirror_mode": {
    "name": "ipython",
    "version": 3
   },
   "file_extension": ".py",
   "mimetype": "text/x-python",
   "name": "python",
   "nbconvert_exporter": "python",
   "pygments_lexer": "ipython3",
   "version": "3.11.4"
  },
  "nbTranslate": {
   "displayLangs": [
    "*"
   ],
   "hotkey": "alt-t",
   "langInMainMenu": true,
   "sourceLang": "en",
   "targetLang": "fr",
   "useGoogleTranslate": true
  },
  "varInspector": {
   "cols": {
    "lenName": 16,
    "lenType": 16,
    "lenVar": 40
   },
   "kernels_config": {
    "python": {
     "delete_cmd_postfix": "",
     "delete_cmd_prefix": "del ",
     "library": "var_list.py",
     "varRefreshCmd": "print(var_dic_list())"
    },
    "r": {
     "delete_cmd_postfix": ") ",
     "delete_cmd_prefix": "rm(",
     "library": "var_list.r",
     "varRefreshCmd": "cat(var_dic_list()) "
    }
   },
   "types_to_exclude": [
    "module",
    "function",
    "builtin_function_or_method",
    "instance",
    "_Feature"
   ],
   "window_display": false
  }
 },
 "nbformat": 4,
 "nbformat_minor": 4
}
