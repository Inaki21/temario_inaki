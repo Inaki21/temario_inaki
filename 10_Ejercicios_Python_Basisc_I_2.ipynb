{
  "cells": [
    {
      "cell_type": "markdown",
      "metadata": {
        "id": "GB2K42EgK9q5"
      },
      "source": [
        "![TheBridge_logo_RGB_color.jpg](attachment:TheBridge_logo_RGB_color.jpg)"
      ]
    },
    {
      "cell_type": "markdown",
      "metadata": {
        "id": "GnwVlO37K9q6"
      },
      "source": [
        "![imagen](./img/ejercicios.png)"
      ]
    },
    {
      "cell_type": "markdown",
      "metadata": {
        "id": "_9pTa0PXK9q6"
      },
      "source": [
        "## EJERCICIOS PYTHON BASICO 2:\n",
        "## Tipos y conversión de tipos"
      ]
    },
    {
      "cell_type": "markdown",
      "metadata": {
        "id": "tYmV-veoK9q6"
      },
      "source": [
        "Completa los siguiente ejercicios, la solución a los mismos se publicarán en el repo del curso a lo largo del sprint"
      ]
    },
    {
      "cell_type": "markdown",
      "metadata": {
        "id": "YAdFbIOXK9q7"
      },
      "source": [
        "![ejercicio.png](./img/ejercicio.png)\n",
        "\n",
        "## Ejercicio 1\n",
        "\n",
        "1. Crea dos variables numericas: un `int` y un `float`\n",
        "2. Comprueba sus tipos\n",
        "3. Sumalas en otra nueva\n",
        "4. ¿De qué tipo es la nueva variable?\n",
        "5. Elimina las dos primeras variables creadas"
      ]
    },
    {
      "cell_type": "code",
      "execution_count": 1,
      "metadata": {
        "id": "8QZmuLOsK9q7"
      },
      "outputs": [
        {
          "name": "stdout",
          "output_type": "stream",
          "text": [
            "Type 'entero': <class 'int'>\n",
            "Type 'decimal': <class 'float'>\n",
            "Tipo de 'resultado': <class 'float'>\n"
          ]
        }
      ],
      "source": [
        "# 1. Crear dos variables numéricas: un int y un float\n",
        "entero = 10\n",
        "decimal = 3.14\n",
        "\n",
        "# 2. Comprobar sus tipos\n",
        "print(\"Type 'entero':\", type(entero))\n",
        "print(\"Type 'decimal':\", type(decimal))\n",
        "\n",
        "# 3. Sumar las dos en una nueva\n",
        "resultado = entero + decimal\n",
        "\n",
        "# 4. Verificar el tipo de la nueva variable\n",
        "print(\"Tipo de 'resultado':\", type(resultado))\n",
        "\n",
        "# 5. Eliminar las dos primeras variables\n",
        "del entero\n",
        "del decimal\n"
      ]
    },
    {
      "cell_type": "markdown",
      "metadata": {
        "id": "f5xfpkpQK9q7"
      },
      "source": [
        "![ejercicio.png](./img/ejercicio.png)\n",
        "\n",
        "## Ejercicio 2\n",
        "Escribe un programa para pasar de grados a radianes. Hay que usar `input`. Recuerda que la conversión se realiza mediante\n",
        "\n",
        "radianes = grados*(pi/180)"
      ]
    },
    {
      "cell_type": "code",
      "execution_count": 2,
      "metadata": {
        "id": "V50TUQMzK9q7"
      },
      "outputs": [
        {
          "name": "stdout",
          "output_type": "stream",
          "text": [
            "180.0 grados son 3.141592653589793 radianes\n"
          ]
        }
      ],
      "source": [
        "import math\n",
        "\n",
        "# Solicitar al usuario que ingrese los grados\n",
        "grados = float(input(\"Ingresa el valor en grados: \"))\n",
        "\n",
        "# Conversión a radianes\n",
        "radianes = grados * (math.pi / 180)\n",
        "\n",
        "# Mostrar el resultado\n",
        "print(f\"{grados} grados son {radianes} radianes\")\n"
      ]
    },
    {
      "cell_type": "markdown",
      "metadata": {
        "id": "zX3-p58CK9q7"
      },
      "source": [
        "![ejercicio.png](./img/ejercicio.png)\n",
        "\n",
        "## Ejercicio 3\n",
        "Escribe un programa que calcule el area de un paralelogramo (base x altura). También con `input`"
      ]
    },
    {
      "cell_type": "code",
      "execution_count": 4,
      "metadata": {
        "id": "s2QfNiBAK9q7"
      },
      "outputs": [
        {
          "name": "stdout",
          "output_type": "stream",
          "text": [
            "El área del paralelogramo es: 200.0\n"
          ]
        }
      ],
      "source": [
        "# Solicitar base y altura al usuario\n",
        "base = float(input(\"Ingresa la base del paralelogramo: \"))\n",
        "altura = float(input(\"Ingresa la altura del paralelogramo: \"))\n",
        "\n",
        "# Calcular el área\n",
        "area = base * altura\n",
        "\n",
        "# Mostrar el resultado\n",
        "print(f\"El área del paralelogramo es: {area}\")\n"
      ]
    },
    {
      "cell_type": "markdown",
      "metadata": {
        "id": "-6TBo_HvK9q8"
      },
      "source": [
        "![ejercicio.png](./img/ejercicio.png)\n",
        "\n",
        "## Ejercicio 4\n",
        "Escribe un programa que calcule el area de un paralelogramo (base x altura). También con `input`. En este caso debe ser capaz de admitir valores reales, con decimales, para base y altura en español. (PISTA: Recuerda que tendrás que hacer uso del método replace)"
      ]
    },
    {
      "cell_type": "code",
      "execution_count": 5,
      "metadata": {
        "id": "uzUIa1JqK9q8"
      },
      "outputs": [
        {
          "name": "stdout",
          "output_type": "stream",
          "text": [
            "El área del paralelogramo es: 162.75\n"
          ]
        }
      ],
      "source": [
        "# Pedir base y altura al usuario (con coma como decimal)\n",
        "base_str = input(\"Ingresa la base del paralelogramo (usa coma para decimales): \")\n",
        "altura_str = input(\"Ingresa la altura del paralelogramo (usa coma para decimales): \")\n",
        "\n",
        "# Reemplazar la coma por punto para convertir a float\n",
        "base = float(base_str.replace(',', '.'))\n",
        "altura = float(altura_str.replace(',', '.'))\n",
        "\n",
        "# Calcular el área\n",
        "area = base * altura\n",
        "\n",
        "# Mostrar el resultado\n",
        "print(f\"El área del paralelogramo es: {area}\")\n"
      ]
    },
    {
      "cell_type": "markdown",
      "metadata": {
        "id": "5zKugi5iK9q8"
      },
      "source": [
        "![ejercicio.png](./img/ejercicio.png)\n",
        "\n",
        "## Ejercicio 5\n",
        "Complete el siguiente código para solicitar al usuario su nombre y su edad. Luego, calcule en qué año nació el usuario y muestre el resultado."
      ]
    },
    {
      "cell_type": "code",
      "execution_count": 11,
      "metadata": {
        "id": "LISfTnRkK9q8"
      },
      "outputs": [
        {
          "name": "stdout",
          "output_type": "stream",
          "text": [
            "iñaki, naciste en el año 1994.\n"
          ]
        }
      ],
      "source": [
        "nombre = input(\"¿Cuál es tu nombre? \")\n",
        "edad = int(input(\"¿Cuál es tu edad? \"))\n",
        "año_actual = 2024  # Puedes cambiarlo según el año en curso\n",
        "año_nacimiento = año_actual - edad\n",
        "\n",
        "print(f\"{nombre}, naciste en el año {año_nacimiento}.\")\n",
        "\n"
      ]
    }
  ],
  "metadata": {
    "colab": {
      "provenance": []
    },
    "kernelspec": {
      "display_name": "Python 3",
      "language": "python",
      "name": "python3"
    },
    "language_info": {
      "codemirror_mode": {
        "name": "ipython",
        "version": 3
      },
      "file_extension": ".py",
      "mimetype": "text/x-python",
      "name": "python",
      "nbconvert_exporter": "python",
      "pygments_lexer": "ipython3",
      "version": "3.11.4"
    },
    "orig_nbformat": 4
  },
  "nbformat": 4,
  "nbformat_minor": 0
}
